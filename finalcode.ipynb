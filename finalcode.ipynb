{
 "cells": [
  {
   "cell_type": "code",
   "execution_count": null,
   "id": "446bf37c",
   "metadata": {},
   "outputs": [],
   "source": [
    "# Import all the tools we need\n",
    "\n",
    "# Regular EDA (exploratory data analysis) and plotting libraries\n",
    "import numpy as np\n",
    "import pandas as pd\n",
    "import matplotlib.pyplot as plt\n",
    "import seaborn as sns\n",
    "\n",
    "# we want our plots to appear inside the notebook\n",
    "%matplotlib inline\n",
    "\n",
    "# Models from Scikit-Learn\n",
    "from sklearn.linear_model import LogisticRegression\n",
    "from sklearn.neighbors import KNeighborsClassifier\n",
    "from sklearn.ensemble import RandomForestClassifier\n",
    "\n",
    "# Model Evaluations\n",
    "from sklearn.model_selection import train_test_split, cross_val_score\n",
    "from sklearn.model_selection import RandomizedSearchCV, GridSearchCV\n",
    "from sklearn.metrics import confusion_matrix, classification_report\n",
    "from sklearn.metrics import precision_score, recall_score, f1_score\n",
    "from sklearn.metrics import plot_roc_curve\n",
    "from warnings import simplefilter\n",
    "simplefilter(action='ignore', category=FutureWarning)\n",
    "from sklearn.metrics import accuracy_score\n",
    "from sklearn.preprocessing import LabelEncoder"
   ]
  },
  {
   "cell_type": "code",
   "execution_count": null,
   "id": "085ec787",
   "metadata": {},
   "outputs": [],
   "source": [
    "df = pd.read_csv(r\"C:\\Users\\SARATH RAGHAV\\Saved Games\\OneDrive\\Desktop\\final project\\heart.csv\")"
   ]
  },
  {
   "cell_type": "code",
   "execution_count": null,
   "id": "57142fc7",
   "metadata": {},
   "outputs": [
    {
     "data": {
      "text/html": [
       "<div>\n",
       "<style scoped>\n",
       "    .dataframe tbody tr th:only-of-type {\n",
       "        vertical-align: middle;\n",
       "    }\n",
       "\n",
       "    .dataframe tbody tr th {\n",
       "        vertical-align: top;\n",
       "    }\n",
       "\n",
       "    .dataframe thead th {\n",
       "        text-align: right;\n",
       "    }\n",
       "</style>\n",
       "<table border=\"1\" class=\"dataframe\">\n",
       "  <thead>\n",
       "    <tr style=\"text-align: right;\">\n",
       "      <th></th>\n",
       "      <th>age</th>\n",
       "      <th>sex</th>\n",
       "      <th>cp</th>\n",
       "      <th>trestbps</th>\n",
       "      <th>chol</th>\n",
       "      <th>fbs</th>\n",
       "      <th>restecg</th>\n",
       "      <th>thalach</th>\n",
       "      <th>exang</th>\n",
       "      <th>oldpeak</th>\n",
       "      <th>slope</th>\n",
       "      <th>ca</th>\n",
       "      <th>thal</th>\n",
       "      <th>target</th>\n",
       "    </tr>\n",
       "  </thead>\n",
       "  <tbody>\n",
       "    <tr>\n",
       "      <th>0</th>\n",
       "      <td>52</td>\n",
       "      <td>1</td>\n",
       "      <td>0</td>\n",
       "      <td>125</td>\n",
       "      <td>212</td>\n",
       "      <td>0</td>\n",
       "      <td>1</td>\n",
       "      <td>168</td>\n",
       "      <td>0</td>\n",
       "      <td>1.0</td>\n",
       "      <td>2</td>\n",
       "      <td>2</td>\n",
       "      <td>3</td>\n",
       "      <td>0</td>\n",
       "    </tr>\n",
       "    <tr>\n",
       "      <th>1</th>\n",
       "      <td>53</td>\n",
       "      <td>1</td>\n",
       "      <td>0</td>\n",
       "      <td>140</td>\n",
       "      <td>203</td>\n",
       "      <td>1</td>\n",
       "      <td>0</td>\n",
       "      <td>155</td>\n",
       "      <td>1</td>\n",
       "      <td>3.1</td>\n",
       "      <td>0</td>\n",
       "      <td>0</td>\n",
       "      <td>3</td>\n",
       "      <td>0</td>\n",
       "    </tr>\n",
       "    <tr>\n",
       "      <th>2</th>\n",
       "      <td>70</td>\n",
       "      <td>1</td>\n",
       "      <td>0</td>\n",
       "      <td>145</td>\n",
       "      <td>174</td>\n",
       "      <td>0</td>\n",
       "      <td>1</td>\n",
       "      <td>125</td>\n",
       "      <td>1</td>\n",
       "      <td>2.6</td>\n",
       "      <td>0</td>\n",
       "      <td>0</td>\n",
       "      <td>3</td>\n",
       "      <td>0</td>\n",
       "    </tr>\n",
       "    <tr>\n",
       "      <th>3</th>\n",
       "      <td>61</td>\n",
       "      <td>1</td>\n",
       "      <td>0</td>\n",
       "      <td>148</td>\n",
       "      <td>203</td>\n",
       "      <td>0</td>\n",
       "      <td>1</td>\n",
       "      <td>161</td>\n",
       "      <td>0</td>\n",
       "      <td>0.0</td>\n",
       "      <td>2</td>\n",
       "      <td>1</td>\n",
       "      <td>3</td>\n",
       "      <td>0</td>\n",
       "    </tr>\n",
       "    <tr>\n",
       "      <th>4</th>\n",
       "      <td>62</td>\n",
       "      <td>0</td>\n",
       "      <td>0</td>\n",
       "      <td>138</td>\n",
       "      <td>294</td>\n",
       "      <td>1</td>\n",
       "      <td>1</td>\n",
       "      <td>106</td>\n",
       "      <td>0</td>\n",
       "      <td>1.9</td>\n",
       "      <td>1</td>\n",
       "      <td>3</td>\n",
       "      <td>2</td>\n",
       "      <td>0</td>\n",
       "    </tr>\n",
       "  </tbody>\n",
       "</table>\n",
       "</div>"
      ],
      "text/plain": [
       "   age  sex  cp  trestbps  chol  fbs  restecg  thalach  exang  oldpeak  slope  \\\n",
       "0   52    1   0       125   212    0        1      168      0      1.0      2   \n",
       "1   53    1   0       140   203    1        0      155      1      3.1      0   \n",
       "2   70    1   0       145   174    0        1      125      1      2.6      0   \n",
       "3   61    1   0       148   203    0        1      161      0      0.0      2   \n",
       "4   62    0   0       138   294    1        1      106      0      1.9      1   \n",
       "\n",
       "   ca  thal  target  \n",
       "0   2     3       0  \n",
       "1   0     3       0  \n",
       "2   0     3       0  \n",
       "3   1     3       0  \n",
       "4   3     2       0  "
      ]
     },
     "execution_count": 3,
     "metadata": {},
     "output_type": "execute_result"
    }
   ],
   "source": [
    "df.head()"
   ]
  },
  {
   "cell_type": "code",
   "execution_count": null,
   "id": "fa240e29",
   "metadata": {},
   "outputs": [
    {
     "data": {
      "text/html": [
       "<div>\n",
       "<style scoped>\n",
       "    .dataframe tbody tr th:only-of-type {\n",
       "        vertical-align: middle;\n",
       "    }\n",
       "\n",
       "    .dataframe tbody tr th {\n",
       "        vertical-align: top;\n",
       "    }\n",
       "\n",
       "    .dataframe thead th {\n",
       "        text-align: right;\n",
       "    }\n",
       "</style>\n",
       "<table border=\"1\" class=\"dataframe\">\n",
       "  <thead>\n",
       "    <tr style=\"text-align: right;\">\n",
       "      <th></th>\n",
       "      <th>age</th>\n",
       "      <th>sex</th>\n",
       "      <th>cp</th>\n",
       "      <th>trestbps</th>\n",
       "      <th>chol</th>\n",
       "      <th>fbs</th>\n",
       "      <th>restecg</th>\n",
       "      <th>thalach</th>\n",
       "      <th>exang</th>\n",
       "      <th>oldpeak</th>\n",
       "      <th>slope</th>\n",
       "      <th>ca</th>\n",
       "      <th>thal</th>\n",
       "      <th>target</th>\n",
       "    </tr>\n",
       "  </thead>\n",
       "  <tbody>\n",
       "    <tr>\n",
       "      <th>1020</th>\n",
       "      <td>59</td>\n",
       "      <td>1</td>\n",
       "      <td>1</td>\n",
       "      <td>140</td>\n",
       "      <td>221</td>\n",
       "      <td>0</td>\n",
       "      <td>1</td>\n",
       "      <td>164</td>\n",
       "      <td>1</td>\n",
       "      <td>0.0</td>\n",
       "      <td>2</td>\n",
       "      <td>0</td>\n",
       "      <td>2</td>\n",
       "      <td>1</td>\n",
       "    </tr>\n",
       "    <tr>\n",
       "      <th>1021</th>\n",
       "      <td>60</td>\n",
       "      <td>1</td>\n",
       "      <td>0</td>\n",
       "      <td>125</td>\n",
       "      <td>258</td>\n",
       "      <td>0</td>\n",
       "      <td>0</td>\n",
       "      <td>141</td>\n",
       "      <td>1</td>\n",
       "      <td>2.8</td>\n",
       "      <td>1</td>\n",
       "      <td>1</td>\n",
       "      <td>3</td>\n",
       "      <td>0</td>\n",
       "    </tr>\n",
       "    <tr>\n",
       "      <th>1022</th>\n",
       "      <td>47</td>\n",
       "      <td>1</td>\n",
       "      <td>0</td>\n",
       "      <td>110</td>\n",
       "      <td>275</td>\n",
       "      <td>0</td>\n",
       "      <td>0</td>\n",
       "      <td>118</td>\n",
       "      <td>1</td>\n",
       "      <td>1.0</td>\n",
       "      <td>1</td>\n",
       "      <td>1</td>\n",
       "      <td>2</td>\n",
       "      <td>0</td>\n",
       "    </tr>\n",
       "    <tr>\n",
       "      <th>1023</th>\n",
       "      <td>50</td>\n",
       "      <td>0</td>\n",
       "      <td>0</td>\n",
       "      <td>110</td>\n",
       "      <td>254</td>\n",
       "      <td>0</td>\n",
       "      <td>0</td>\n",
       "      <td>159</td>\n",
       "      <td>0</td>\n",
       "      <td>0.0</td>\n",
       "      <td>2</td>\n",
       "      <td>0</td>\n",
       "      <td>2</td>\n",
       "      <td>1</td>\n",
       "    </tr>\n",
       "    <tr>\n",
       "      <th>1024</th>\n",
       "      <td>54</td>\n",
       "      <td>1</td>\n",
       "      <td>0</td>\n",
       "      <td>120</td>\n",
       "      <td>188</td>\n",
       "      <td>0</td>\n",
       "      <td>1</td>\n",
       "      <td>113</td>\n",
       "      <td>0</td>\n",
       "      <td>1.4</td>\n",
       "      <td>1</td>\n",
       "      <td>1</td>\n",
       "      <td>3</td>\n",
       "      <td>0</td>\n",
       "    </tr>\n",
       "  </tbody>\n",
       "</table>\n",
       "</div>"
      ],
      "text/plain": [
       "      age  sex  cp  trestbps  chol  fbs  restecg  thalach  exang  oldpeak  \\\n",
       "1020   59    1   1       140   221    0        1      164      1      0.0   \n",
       "1021   60    1   0       125   258    0        0      141      1      2.8   \n",
       "1022   47    1   0       110   275    0        0      118      1      1.0   \n",
       "1023   50    0   0       110   254    0        0      159      0      0.0   \n",
       "1024   54    1   0       120   188    0        1      113      0      1.4   \n",
       "\n",
       "      slope  ca  thal  target  \n",
       "1020      2   0     2       1  \n",
       "1021      1   1     3       0  \n",
       "1022      1   1     2       0  \n",
       "1023      2   0     2       1  \n",
       "1024      1   1     3       0  "
      ]
     },
     "execution_count": 4,
     "metadata": {},
     "output_type": "execute_result"
    }
   ],
   "source": [
    "df.tail()"
   ]
  },
  {
   "cell_type": "code",
   "execution_count": null,
   "id": "f1ffdd6b",
   "metadata": {},
   "outputs": [
    {
     "name": "stdout",
     "output_type": "stream",
     "text": [
      "<class 'pandas.core.frame.DataFrame'>\n",
      "RangeIndex: 1025 entries, 0 to 1024\n",
      "Data columns (total 14 columns):\n",
      " #   Column    Non-Null Count  Dtype  \n",
      "---  ------    --------------  -----  \n",
      " 0   age       1025 non-null   int64  \n",
      " 1   sex       1025 non-null   int64  \n",
      " 2   cp        1025 non-null   int64  \n",
      " 3   trestbps  1025 non-null   int64  \n",
      " 4   chol      1025 non-null   int64  \n",
      " 5   fbs       1025 non-null   int64  \n",
      " 6   restecg   1025 non-null   int64  \n",
      " 7   thalach   1025 non-null   int64  \n",
      " 8   exang     1025 non-null   int64  \n",
      " 9   oldpeak   1025 non-null   float64\n",
      " 10  slope     1025 non-null   int64  \n",
      " 11  ca        1025 non-null   int64  \n",
      " 12  thal      1025 non-null   int64  \n",
      " 13  target    1025 non-null   int64  \n",
      "dtypes: float64(1), int64(13)\n",
      "memory usage: 112.2 KB\n"
     ]
    }
   ],
   "source": [
    "df.info()"
   ]
  },
  {
   "cell_type": "code",
   "execution_count": null,
   "id": "5d431f8e",
   "metadata": {},
   "outputs": [
    {
     "data": {
      "text/plain": [
       "age         0\n",
       "sex         0\n",
       "cp          0\n",
       "trestbps    0\n",
       "chol        0\n",
       "fbs         0\n",
       "restecg     0\n",
       "thalach     0\n",
       "exang       0\n",
       "oldpeak     0\n",
       "slope       0\n",
       "ca          0\n",
       "thal        0\n",
       "target      0\n",
       "dtype: int64"
      ]
     },
     "execution_count": 6,
     "metadata": {},
     "output_type": "execute_result"
    }
   ],
   "source": [
    "# are there any missing values?\n",
    "df.isna().sum()"
   ]
  },
  {
   "cell_type": "code",
   "execution_count": null,
   "id": "cbdae333",
   "metadata": {},
   "outputs": [
    {
     "data": {
      "text/html": [
       "<div>\n",
       "<style scoped>\n",
       "    .dataframe tbody tr th:only-of-type {\n",
       "        vertical-align: middle;\n",
       "    }\n",
       "\n",
       "    .dataframe tbody tr th {\n",
       "        vertical-align: top;\n",
       "    }\n",
       "\n",
       "    .dataframe thead th {\n",
       "        text-align: right;\n",
       "    }\n",
       "</style>\n",
       "<table border=\"1\" class=\"dataframe\">\n",
       "  <thead>\n",
       "    <tr style=\"text-align: right;\">\n",
       "      <th></th>\n",
       "      <th>age</th>\n",
       "      <th>sex</th>\n",
       "      <th>cp</th>\n",
       "      <th>trestbps</th>\n",
       "      <th>chol</th>\n",
       "      <th>fbs</th>\n",
       "      <th>restecg</th>\n",
       "      <th>thalach</th>\n",
       "      <th>exang</th>\n",
       "      <th>oldpeak</th>\n",
       "      <th>slope</th>\n",
       "      <th>ca</th>\n",
       "      <th>thal</th>\n",
       "      <th>target</th>\n",
       "    </tr>\n",
       "  </thead>\n",
       "  <tbody>\n",
       "    <tr>\n",
       "      <th>count</th>\n",
       "      <td>1025.000000</td>\n",
       "      <td>1025.000000</td>\n",
       "      <td>1025.000000</td>\n",
       "      <td>1025.000000</td>\n",
       "      <td>1025.00000</td>\n",
       "      <td>1025.000000</td>\n",
       "      <td>1025.000000</td>\n",
       "      <td>1025.000000</td>\n",
       "      <td>1025.000000</td>\n",
       "      <td>1025.000000</td>\n",
       "      <td>1025.000000</td>\n",
       "      <td>1025.000000</td>\n",
       "      <td>1025.000000</td>\n",
       "      <td>1025.000000</td>\n",
       "    </tr>\n",
       "    <tr>\n",
       "      <th>mean</th>\n",
       "      <td>54.434146</td>\n",
       "      <td>0.695610</td>\n",
       "      <td>0.942439</td>\n",
       "      <td>131.611707</td>\n",
       "      <td>246.00000</td>\n",
       "      <td>0.149268</td>\n",
       "      <td>0.529756</td>\n",
       "      <td>149.114146</td>\n",
       "      <td>0.336585</td>\n",
       "      <td>1.071512</td>\n",
       "      <td>1.385366</td>\n",
       "      <td>0.754146</td>\n",
       "      <td>2.323902</td>\n",
       "      <td>0.513171</td>\n",
       "    </tr>\n",
       "    <tr>\n",
       "      <th>std</th>\n",
       "      <td>9.072290</td>\n",
       "      <td>0.460373</td>\n",
       "      <td>1.029641</td>\n",
       "      <td>17.516718</td>\n",
       "      <td>51.59251</td>\n",
       "      <td>0.356527</td>\n",
       "      <td>0.527878</td>\n",
       "      <td>23.005724</td>\n",
       "      <td>0.472772</td>\n",
       "      <td>1.175053</td>\n",
       "      <td>0.617755</td>\n",
       "      <td>1.030798</td>\n",
       "      <td>0.620660</td>\n",
       "      <td>0.500070</td>\n",
       "    </tr>\n",
       "    <tr>\n",
       "      <th>min</th>\n",
       "      <td>29.000000</td>\n",
       "      <td>0.000000</td>\n",
       "      <td>0.000000</td>\n",
       "      <td>94.000000</td>\n",
       "      <td>126.00000</td>\n",
       "      <td>0.000000</td>\n",
       "      <td>0.000000</td>\n",
       "      <td>71.000000</td>\n",
       "      <td>0.000000</td>\n",
       "      <td>0.000000</td>\n",
       "      <td>0.000000</td>\n",
       "      <td>0.000000</td>\n",
       "      <td>0.000000</td>\n",
       "      <td>0.000000</td>\n",
       "    </tr>\n",
       "    <tr>\n",
       "      <th>25%</th>\n",
       "      <td>48.000000</td>\n",
       "      <td>0.000000</td>\n",
       "      <td>0.000000</td>\n",
       "      <td>120.000000</td>\n",
       "      <td>211.00000</td>\n",
       "      <td>0.000000</td>\n",
       "      <td>0.000000</td>\n",
       "      <td>132.000000</td>\n",
       "      <td>0.000000</td>\n",
       "      <td>0.000000</td>\n",
       "      <td>1.000000</td>\n",
       "      <td>0.000000</td>\n",
       "      <td>2.000000</td>\n",
       "      <td>0.000000</td>\n",
       "    </tr>\n",
       "    <tr>\n",
       "      <th>50%</th>\n",
       "      <td>56.000000</td>\n",
       "      <td>1.000000</td>\n",
       "      <td>1.000000</td>\n",
       "      <td>130.000000</td>\n",
       "      <td>240.00000</td>\n",
       "      <td>0.000000</td>\n",
       "      <td>1.000000</td>\n",
       "      <td>152.000000</td>\n",
       "      <td>0.000000</td>\n",
       "      <td>0.800000</td>\n",
       "      <td>1.000000</td>\n",
       "      <td>0.000000</td>\n",
       "      <td>2.000000</td>\n",
       "      <td>1.000000</td>\n",
       "    </tr>\n",
       "    <tr>\n",
       "      <th>75%</th>\n",
       "      <td>61.000000</td>\n",
       "      <td>1.000000</td>\n",
       "      <td>2.000000</td>\n",
       "      <td>140.000000</td>\n",
       "      <td>275.00000</td>\n",
       "      <td>0.000000</td>\n",
       "      <td>1.000000</td>\n",
       "      <td>166.000000</td>\n",
       "      <td>1.000000</td>\n",
       "      <td>1.800000</td>\n",
       "      <td>2.000000</td>\n",
       "      <td>1.000000</td>\n",
       "      <td>3.000000</td>\n",
       "      <td>1.000000</td>\n",
       "    </tr>\n",
       "    <tr>\n",
       "      <th>max</th>\n",
       "      <td>77.000000</td>\n",
       "      <td>1.000000</td>\n",
       "      <td>3.000000</td>\n",
       "      <td>200.000000</td>\n",
       "      <td>564.00000</td>\n",
       "      <td>1.000000</td>\n",
       "      <td>2.000000</td>\n",
       "      <td>202.000000</td>\n",
       "      <td>1.000000</td>\n",
       "      <td>6.200000</td>\n",
       "      <td>2.000000</td>\n",
       "      <td>4.000000</td>\n",
       "      <td>3.000000</td>\n",
       "      <td>1.000000</td>\n",
       "    </tr>\n",
       "  </tbody>\n",
       "</table>\n",
       "</div>"
      ],
      "text/plain": [
       "               age          sex           cp     trestbps        chol  \\\n",
       "count  1025.000000  1025.000000  1025.000000  1025.000000  1025.00000   \n",
       "mean     54.434146     0.695610     0.942439   131.611707   246.00000   \n",
       "std       9.072290     0.460373     1.029641    17.516718    51.59251   \n",
       "min      29.000000     0.000000     0.000000    94.000000   126.00000   \n",
       "25%      48.000000     0.000000     0.000000   120.000000   211.00000   \n",
       "50%      56.000000     1.000000     1.000000   130.000000   240.00000   \n",
       "75%      61.000000     1.000000     2.000000   140.000000   275.00000   \n",
       "max      77.000000     1.000000     3.000000   200.000000   564.00000   \n",
       "\n",
       "               fbs      restecg      thalach        exang      oldpeak  \\\n",
       "count  1025.000000  1025.000000  1025.000000  1025.000000  1025.000000   \n",
       "mean      0.149268     0.529756   149.114146     0.336585     1.071512   \n",
       "std       0.356527     0.527878    23.005724     0.472772     1.175053   \n",
       "min       0.000000     0.000000    71.000000     0.000000     0.000000   \n",
       "25%       0.000000     0.000000   132.000000     0.000000     0.000000   \n",
       "50%       0.000000     1.000000   152.000000     0.000000     0.800000   \n",
       "75%       0.000000     1.000000   166.000000     1.000000     1.800000   \n",
       "max       1.000000     2.000000   202.000000     1.000000     6.200000   \n",
       "\n",
       "             slope           ca         thal       target  \n",
       "count  1025.000000  1025.000000  1025.000000  1025.000000  \n",
       "mean      1.385366     0.754146     2.323902     0.513171  \n",
       "std       0.617755     1.030798     0.620660     0.500070  \n",
       "min       0.000000     0.000000     0.000000     0.000000  \n",
       "25%       1.000000     0.000000     2.000000     0.000000  \n",
       "50%       1.000000     0.000000     2.000000     1.000000  \n",
       "75%       2.000000     1.000000     3.000000     1.000000  \n",
       "max       2.000000     4.000000     3.000000     1.000000  "
      ]
     },
     "execution_count": 7,
     "metadata": {},
     "output_type": "execute_result"
    }
   ],
   "source": [
    "df.describe()"
   ]
  },
  {
   "cell_type": "code",
   "execution_count": null,
   "id": "20613913",
   "metadata": {},
   "outputs": [
    {
     "data": {
      "text/plain": [
       "pandas.core.frame.DataFrame"
      ]
     },
     "execution_count": 8,
     "metadata": {},
     "output_type": "execute_result"
    }
   ],
   "source": [
    "type(df)"
   ]
  },
  {
   "cell_type": "code",
   "execution_count": null,
   "id": "ea412dca",
   "metadata": {},
   "outputs": [
    {
     "data": {
      "text/plain": [
       "(1025, 14)"
      ]
     },
     "execution_count": 9,
     "metadata": {},
     "output_type": "execute_result"
    }
   ],
   "source": [
    "df.shape"
   ]
  },
  {
   "cell_type": "code",
   "execution_count": null,
   "id": "3c31790a",
   "metadata": {},
   "outputs": [
    {
     "data": {
      "text/html": [
       "<div>\n",
       "<style scoped>\n",
       "    .dataframe tbody tr th:only-of-type {\n",
       "        vertical-align: middle;\n",
       "    }\n",
       "\n",
       "    .dataframe tbody tr th {\n",
       "        vertical-align: top;\n",
       "    }\n",
       "\n",
       "    .dataframe thead th {\n",
       "        text-align: right;\n",
       "    }\n",
       "</style>\n",
       "<table border=\"1\" class=\"dataframe\">\n",
       "  <thead>\n",
       "    <tr style=\"text-align: right;\">\n",
       "      <th></th>\n",
       "      <th>age</th>\n",
       "      <th>sex</th>\n",
       "      <th>cp</th>\n",
       "      <th>trestbps</th>\n",
       "      <th>chol</th>\n",
       "      <th>fbs</th>\n",
       "      <th>restecg</th>\n",
       "      <th>thalach</th>\n",
       "      <th>exang</th>\n",
       "      <th>oldpeak</th>\n",
       "      <th>slope</th>\n",
       "      <th>ca</th>\n",
       "      <th>thal</th>\n",
       "      <th>target</th>\n",
       "    </tr>\n",
       "  </thead>\n",
       "  <tbody>\n",
       "    <tr>\n",
       "      <th>896</th>\n",
       "      <td>59</td>\n",
       "      <td>1</td>\n",
       "      <td>3</td>\n",
       "      <td>178</td>\n",
       "      <td>270</td>\n",
       "      <td>0</td>\n",
       "      <td>0</td>\n",
       "      <td>145</td>\n",
       "      <td>0</td>\n",
       "      <td>4.2</td>\n",
       "      <td>0</td>\n",
       "      <td>0</td>\n",
       "      <td>3</td>\n",
       "      <td>1</td>\n",
       "    </tr>\n",
       "  </tbody>\n",
       "</table>\n",
       "</div>"
      ],
      "text/plain": [
       "     age  sex  cp  trestbps  chol  fbs  restecg  thalach  exang  oldpeak  \\\n",
       "896   59    1   3       178   270    0        0      145      0      4.2   \n",
       "\n",
       "     slope  ca  thal  target  \n",
       "896      0   0     3       1  "
      ]
     },
     "execution_count": 10,
     "metadata": {},
     "output_type": "execute_result"
    }
   ],
   "source": [
    "df.sample()"
   ]
  },
  {
   "cell_type": "code",
   "execution_count": null,
   "id": "0b2596a3",
   "metadata": {},
   "outputs": [
    {
     "name": "stdout",
     "output_type": "stream",
     "text": [
      "age:\t\t\tage\n",
      "sex:\t\t\t1: male, 0: female\n",
      "cp:\t\t\tchest pain type, 1: typical angina, 2: atypical angina, 3: non-anginal pain, 4: asymptomatic\n",
      "trestbps:\t\t\tresting blood pressure\n",
      "chol:\t\t\t serum cholestoral in mg/dl\n",
      "fbs:\t\t\tfasting blood sugar > 120 mg/dl\n",
      "restecg:\t\t\tresting electrocardiographic results (values 0,1,2)\n",
      "thalach:\t\t\t maximum heart rate achieved\n",
      "exang:\t\t\texercise induced angina\n",
      "oldpeak:\t\t\toldpeak = ST depression induced by exercise relative to rest\n",
      "slope:\t\t\tthe slope of the peak exercise ST segment\n",
      "ca:\t\t\tnumber of major vessels (0-3) colored by flourosopy\n",
      "thal:\t\t\tthal: 3 = normal; 6 = fixed defect; 7 = reversable defect\n"
     ]
    }
   ],
   "source": [
    "info = [\"age\",\"1: male, 0: female\",\"chest pain type, 1: typical angina, 2: atypical angina, 3: non-anginal pain, 4: asymptomatic\",\"resting blood pressure\",\" serum cholestoral in mg/dl\",\"fasting blood sugar > 120 mg/dl\",\"resting electrocardiographic results (values 0,1,2)\",\" maximum heart rate achieved\",\"exercise induced angina\",\"oldpeak = ST depression induced by exercise relative to rest\",\"the slope of the peak exercise ST segment\",\"number of major vessels (0-3) colored by flourosopy\",\"thal: 3 = normal; 6 = fixed defect; 7 = reversable defect\"]\n",
    "\n",
    "\n",
    "\n",
    "for i in range(len(info)):\n",
    "    print(df.columns[i]+\":\\t\\t\\t\"+info[i])"
   ]
  },
  {
   "cell_type": "code",
   "execution_count": null,
   "id": "d97edd7c",
   "metadata": {},
   "outputs": [
    {
     "data": {
      "text/plain": [
       "1    526\n",
       "0    499\n",
       "Name: target, dtype: int64"
      ]
     },
     "execution_count": 12,
     "metadata": {},
     "output_type": "execute_result"
    }
   ],
   "source": [
    "df[\"target\"].value_counts()"
   ]
  },
  {
   "cell_type": "code",
   "execution_count": null,
   "id": "6917ed94",
   "metadata": {},
   "outputs": [
    {
     "data": {
      "image/png": "[encoded data removed]",
      "text/plain": [
       "<Figure size 432x288 with 1 Axes>"
      ]
     },
     "metadata": {
      "needs_background": "light"
     },
     "output_type": "display_data"
    }
   ],
   "source": [
    "df[\"target\"].value_counts().plot(kind=\"bar\", color=[\"salmon\", \"lightblue\"]);"
   ]
  },
  {
   "cell_type": "code",
   "execution_count": null,
   "id": "308c63ab",
   "metadata": {},
   "outputs": [],
   "source": [
    "target_temp = df.target.value_counts()"
   ]
  },
  {
   "cell_type": "code",
   "execution_count": null,
   "id": "ab87d871",
   "metadata": {},
   "outputs": [
    {
     "name": "stdout",
     "output_type": "stream",
     "text": [
      "Percentage of patience without heart problems: 164.69\n",
      "Percentage of patience with heart problems: 173.6\n"
     ]
    }
   ],
   "source": [
    "print(\"Percentage of patience without heart problems: \"+str(round(target_temp[0]*100/303,2)))\n",
    "print(\"Percentage of patience with heart problems: \"+str(round(target_temp[1]*100/303,2)))\n",
    "\n",
    "#Alternatively,\n",
    "# print(\"Percentage of patience with heart problems: \"+str(y.where(y==1).count()*100/303))\n",
    "# print(\"Percentage of patience with heart problems: \"+str(y.where(y==0).count()*100/303))\n",
    "\n",
    "# #Or,\n",
    "# countNoDisease = len(df[df.target == 0])\n",
    "# countHaveDisease = len(df[df.target == 1])"
   ]
  },
  {
   "cell_type": "code",
   "execution_count": null,
   "id": "b5b1f09d",
   "metadata": {},
   "outputs": [
    {
     "data": {
      "text/plain": [
       "1    713\n",
       "0    312\n",
       "Name: sex, dtype: int64"
      ]
     },
     "execution_count": 16,
     "metadata": {},
     "output_type": "execute_result"
    }
   ],
   "source": [
    "df.sex.value_counts()"
   ]
  },
  {
   "cell_type": "code",
   "execution_count": null,
   "id": "899cfa46",
   "metadata": {},
   "outputs": [
    {
     "data": {
      "text/html": [
       "<div>\n",
       "<style scoped>\n",
       "    .dataframe tbody tr th:only-of-type {\n",
       "        vertical-align: middle;\n",
       "    }\n",
       "\n",
       "    .dataframe tbody tr th {\n",
       "        vertical-align: top;\n",
       "    }\n",
       "\n",
       "    .dataframe thead th {\n",
       "        text-align: right;\n",
       "    }\n",
       "</style>\n",
       "<table border=\"1\" class=\"dataframe\">\n",
       "  <thead>\n",
       "    <tr style=\"text-align: right;\">\n",
       "      <th>sex</th>\n",
       "      <th>0</th>\n",
       "      <th>1</th>\n",
       "    </tr>\n",
       "    <tr>\n",
       "      <th>target</th>\n",
       "      <th></th>\n",
       "      <th></th>\n",
       "    </tr>\n",
       "  </thead>\n",
       "  <tbody>\n",
       "    <tr>\n",
       "      <th>0</th>\n",
       "      <td>86</td>\n",
       "      <td>413</td>\n",
       "    </tr>\n",
       "    <tr>\n",
       "      <th>1</th>\n",
       "      <td>226</td>\n",
       "      <td>300</td>\n",
       "    </tr>\n",
       "  </tbody>\n",
       "</table>\n",
       "</div>"
      ],
      "text/plain": [
       "sex       0    1\n",
       "target          \n",
       "0        86  413\n",
       "1       226  300"
      ]
     },
     "execution_count": 17,
     "metadata": {},
     "output_type": "execute_result"
    }
   ],
   "source": [
    "# Compare Target column with Sex column\n",
    "pd.crosstab(df.target, df.sex)"
   ]
  },
  {
   "cell_type": "code",
   "execution_count": null,
   "id": "3de7314f",
   "metadata": {},
   "outputs": [
    {
     "data": {
      "image/png": "[encoded data removed]",
      "text/plain": [
       "<Figure size 720x432 with 1 Axes>"
      ]
     },
     "metadata": {
      "needs_background": "light"
     },
     "output_type": "display_data"
    }
   ],
   "source": [
    "# Create of plot of crosstab\n",
    "pd.crosstab(df.target, df.sex).plot(kind=\"bar\", figsize=(10,6), color=[\"salmon\", \"lightblue\"])\n",
    "plt.title(\"Heart Disease Frequency for Gender\")\n",
    "plt.xlabel(\"0 => No Disease, 1 => Disease\")\n",
    "plt.ylabel(\"Amount\")\n",
    "plt.legend([\"Female\", \"Male\"])\n",
    "plt.xticks(rotation=0);"
   ]
  },
  {
   "cell_type": "code",
   "execution_count": null,
   "id": "4a279ec2",
   "metadata": {},
   "outputs": [
    {
     "name": "stdout",
     "output_type": "stream",
     "text": [
      "1    526\n",
      "0    499\n",
      "Name: target, dtype: int64\n"
     ]
    },
    {
     "data": {
      "image/png": "[encoded data removed]",
      "text/plain": [
       "<Figure size 432x288 with 1 Axes>"
      ]
     },
     "metadata": {
      "needs_background": "light"
     },
     "output_type": "display_data"
    }
   ],
   "source": [
    "y = df[\"target\"]\n",
    "\n",
    "sns.countplot(y)\n",
    "\n",
    "\n",
    "target_temp = df.target.value_counts()\n",
    "\n",
    "print(target_temp)"
   ]
  },
  {
   "cell_type": "code",
   "execution_count": null,
   "id": "cb6640f4",
   "metadata": {},
   "outputs": [
    {
     "data": {
      "text/plain": [
       "array([1, 0], dtype=int64)"
      ]
     },
     "execution_count": 20,
     "metadata": {},
     "output_type": "execute_result"
    }
   ],
   "source": [
    "df[\"sex\"].unique()"
   ]
  },
  {
   "cell_type": "code",
   "execution_count": null,
   "id": "9e827ce1",
   "metadata": {},
   "outputs": [
    {
     "data": {
      "text/plain": [
       "<AxesSubplot:xlabel='sex', ylabel='target'>"
      ]
     },
     "execution_count": 21,
     "metadata": {},
     "output_type": "execute_result"
    },
    {
     "data": {
      "image/png": "[encoded data removed]",
      "text/plain": [
       "<Figure size 432x288 with 1 Axes>"
      ]
     },
     "metadata": {
      "needs_background": "light"
     },
     "output_type": "display_data"
    }
   ],
   "source": [
    "sns.barplot(df[\"sex\"],y)"
   ]
  },
  {
   "cell_type": "code",
   "execution_count": null,
   "id": "bce90851",
   "metadata": {},
   "outputs": [
    {
     "data": {
      "text/plain": [
       "array([0, 1, 2, 3], dtype=int64)"
      ]
     },
     "execution_count": 22,
     "metadata": {},
     "output_type": "execute_result"
    }
   ],
   "source": [
    "df[\"cp\"].unique()"
   ]
  },
  {
   "cell_type": "code",
   "execution_count": null,
   "id": "1bdc423c",
   "metadata": {},
   "outputs": [
    {
     "data": {
      "text/plain": [
       "<AxesSubplot:xlabel='cp', ylabel='target'>"
      ]
     },
     "execution_count": 23,
     "metadata": {},
     "output_type": "execute_result"
    },
    {
     "data": {
      "image/png": "[encoded data removed]",
      "text/plain": [
       "<Figure size 432x288 with 1 Axes>"
      ]
     },
     "metadata": {
      "needs_background": "light"
     },
     "output_type": "display_data"
    }
   ],
   "source": [
    "sns.barplot(df[\"cp\"],y)"
   ]
  },
  {
   "cell_type": "code",
   "execution_count": null,
   "id": "bb504ff1",
   "metadata": {},
   "outputs": [
    {
     "data": {
      "text/plain": [
       "count    1025.000000\n",
       "mean        0.149268\n",
       "std         0.356527\n",
       "min         0.000000\n",
       "25%         0.000000\n",
       "50%         0.000000\n",
       "75%         0.000000\n",
       "max         1.000000\n",
       "Name: fbs, dtype: float64"
      ]
     },
     "execution_count": 24,
     "metadata": {},
     "output_type": "execute_result"
    }
   ],
   "source": [
    "df[\"fbs\"].describe()"
   ]
  },
  {
   "cell_type": "code",
   "execution_count": null,
   "id": "8f934125",
   "metadata": {},
   "outputs": [
    {
     "data": {
      "text/plain": [
       "array([0, 1], dtype=int64)"
      ]
     },
     "execution_count": 25,
     "metadata": {},
     "output_type": "execute_result"
    }
   ],
   "source": [
    "df[\"fbs\"].unique()"
   ]
  },
  {
   "cell_type": "code",
   "execution_count": null,
   "id": "4cbfd3ed",
   "metadata": {},
   "outputs": [
    {
     "data": {
      "text/plain": [
       "<AxesSubplot:xlabel='fbs', ylabel='target'>"
      ]
     },
     "execution_count": 26,
     "metadata": {},
     "output_type": "execute_result"
    },
    {
     "data": {
      "image/png": "[encoded data removed]",
      "text/plain": [
       "<Figure size 432x288 with 1 Axes>"
      ]
     },
     "metadata": {
      "needs_background": "light"
     },
     "output_type": "display_data"
    }
   ],
   "source": [
    "sns.barplot(df[\"fbs\"],y)"
   ]
  },
  {
   "cell_type": "code",
   "execution_count": null,
   "id": "c4bdf286",
   "metadata": {},
   "outputs": [
    {
     "data": {
      "text/plain": [
       "array([1, 0, 2], dtype=int64)"
      ]
     },
     "execution_count": 27,
     "metadata": {},
     "output_type": "execute_result"
    }
   ],
   "source": [
    "df[\"restecg\"].unique()"
   ]
  },
  {
   "cell_type": "code",
   "execution_count": null,
   "id": "89af31df",
   "metadata": {},
   "outputs": [
    {
     "data": {
      "text/plain": [
       "<AxesSubplot:xlabel='restecg', ylabel='target'>"
      ]
     },
     "execution_count": 28,
     "metadata": {},
     "output_type": "execute_result"
    },
    {
     "data": {
      "image/png": "[encoded data removed]",
      "text/plain": [
       "<Figure size 432x288 with 1 Axes>"
      ]
     },
     "metadata": {
      "needs_background": "light"
     },
     "output_type": "display_data"
    }
   ],
   "source": [
    "sns.barplot(df[\"restecg\"],y)"
   ]
  },
  {
   "cell_type": "code",
   "execution_count": null,
   "id": "17493339",
   "metadata": {},
   "outputs": [
    {
     "data": {
      "text/plain": [
       "array([0, 1], dtype=int64)"
      ]
     },
     "execution_count": 29,
     "metadata": {},
     "output_type": "execute_result"
    }
   ],
   "source": [
    "df[\"exang\"].unique()"
   ]
  },
  {
   "cell_type": "code",
   "execution_count": null,
   "id": "876116f6",
   "metadata": {},
   "outputs": [
    {
     "data": {
      "text/plain": [
       "<AxesSubplot:xlabel='exang', ylabel='target'>"
      ]
     },
     "execution_count": 30,
     "metadata": {},
     "output_type": "execute_result"
    },
    {
     "data": {
      "image/png": "[encoded data removed]",
      "text/plain": [
       "<Figure size 432x288 with 1 Axes>"
      ]
     },
     "metadata": {
      "needs_background": "light"
     },
     "output_type": "display_data"
    }
   ],
   "source": [
    "sns.barplot(df[\"exang\"],y)"
   ]
  },
  {
   "cell_type": "code",
   "execution_count": null,
   "id": "c025e187",
   "metadata": {},
   "outputs": [
    {
     "data": {
      "text/plain": [
       "array([2, 0, 1], dtype=int64)"
      ]
     },
     "execution_count": 31,
     "metadata": {},
     "output_type": "execute_result"
    }
   ],
   "source": [
    "df[\"slope\"].unique()"
   ]
  },
  {
   "cell_type": "code",
   "execution_count": null,
   "id": "98f2989e",
   "metadata": {},
   "outputs": [
    {
     "data": {
      "text/plain": [
       "<AxesSubplot:xlabel='slope', ylabel='target'>"
      ]
     },
     "execution_count": 32,
     "metadata": {},
     "output_type": "execute_result"
    },
    {
     "data": {
      "image/png": "[encoded data removed]",
      "text/plain": [
       "<Figure size 432x288 with 1 Axes>"
      ]
     },
     "metadata": {
      "needs_background": "light"
     },
     "output_type": "display_data"
    }
   ],
   "source": [
    "sns.barplot(df[\"slope\"],y)"
   ]
  },
  {
   "cell_type": "code",
   "execution_count": null,
   "id": "45f96b54",
   "metadata": {},
   "outputs": [
    {
     "data": {
      "text/plain": [
       "array([2, 0, 1, 3, 4], dtype=int64)"
      ]
     },
     "execution_count": 33,
     "metadata": {},
     "output_type": "execute_result"
    }
   ],
   "source": [
    "df[\"ca\"].unique()"
   ]
  },
  {
   "cell_type": "code",
   "execution_count": null,
   "id": "17e4e2ac",
   "metadata": {},
   "outputs": [
    {
     "data": {
      "text/plain": [
       "<AxesSubplot:xlabel='ca', ylabel='count'>"
      ]
     },
     "execution_count": 34,
     "metadata": {},
     "output_type": "execute_result"
    },
    {
     "data": {
      "image/png": "[encoded data removed]",
      "text/plain": [
       "<Figure size 432x288 with 1 Axes>"
      ]
     },
     "metadata": {
      "needs_background": "light"
     },
     "output_type": "display_data"
    }
   ],
   "source": [
    "sns.countplot(df[\"ca\"])"
   ]
  },
  {
   "cell_type": "code",
   "execution_count": null,
   "id": "cfeba356",
   "metadata": {
    "scrolled": true
   },
   "outputs": [
    {
     "data": {
      "text/plain": [
       "<AxesSubplot:xlabel='ca', ylabel='target'>"
      ]
     },
     "execution_count": 35,
     "metadata": {},
     "output_type": "execute_result"
    },
    {
     "data": {
      "image/png": "[encoded data removed]",
      "text/plain": [
       "<Figure size 432x288 with 1 Axes>"
      ]
     },
     "metadata": {
      "needs_background": "light"
     },
     "output_type": "display_data"
    }
   ],
   "source": [
    "sns.barplot(df[\"ca\"],y)"
   ]
  },
  {
   "cell_type": "code",
   "execution_count": null,
   "id": "e1cc34c8",
   "metadata": {},
   "outputs": [
    {
     "data": {
      "text/plain": [
       "array([3, 2, 1, 0], dtype=int64)"
      ]
     },
     "execution_count": 36,
     "metadata": {},
     "output_type": "execute_result"
    }
   ],
   "source": [
    "df[\"thal\"].unique()"
   ]
  },
  {
   "cell_type": "code",
   "execution_count": null,
   "id": "172379fe",
   "metadata": {},
   "outputs": [
    {
     "data": {
      "text/plain": [
       "<AxesSubplot:xlabel='thal', ylabel='target'>"
      ]
     },
     "execution_count": 37,
     "metadata": {},
     "output_type": "execute_result"
    },
    {
     "data": {
      "image/png": "[encoded data removed]",
      "text/plain": [
       "<Figure size 432x288 with 1 Axes>"
      ]
     },
     "metadata": {
      "needs_background": "light"
     },
     "output_type": "display_data"
    }
   ],
   "source": [
    "sns.barplot(df[\"thal\"],y)"
   ]
  },
  {
   "cell_type": "code",
   "execution_count": null,
   "id": "5b7d7dfa",
   "metadata": {},
   "outputs": [
    {
     "data": {
      "text/plain": [
       "<AxesSubplot:xlabel='thal', ylabel='Density'>"
      ]
     },
     "execution_count": 38,
     "metadata": {},
     "output_type": "execute_result"
    },
    {
     "data": {
      "image/png": "[encoded data removed]",
      "text/plain": [
       "<Figure size 432x288 with 1 Axes>"
      ]
     },
     "metadata": {
      "needs_background": "light"
     },
     "output_type": "display_data"
    }
   ],
   "source": [
    "sns.distplot(df[\"thal\"])"
   ]
  },
  {
   "cell_type": "code",
   "execution_count": null,
   "id": "a8598170",
   "metadata": {},
   "outputs": [
    {
     "data": {
      "image/png": "[encoded data removed]",
      "text/plain": [
       "<Figure size 720x432 with 1 Axes>"
      ]
     },
     "metadata": {
      "needs_background": "light"
     },
     "output_type": "display_data"
    }
   ],
   "source": [
    "# Create another figure\n",
    "plt.figure(figsize=(10, 6))\n",
    "\n",
    "# Scatter with positive examples\n",
    "plt.scatter(df.age[df.target == 1],\n",
    "            df.thalach[df.target == 1],\n",
    "            c=\"salmon\")\n",
    "\n",
    "# Scatter with negative examples\n",
    "plt.scatter(df.age[df.target == 0],\n",
    "            df.thalach[df.target == 0],\n",
    "           c=\"lightblue\");\n",
    "\n",
    "# Add some helpful info\n",
    "plt.title(\"Heart Disease in function of Age and Max Heart Rate\")\n",
    "plt.xlabel(\"Age\")\n",
    "plt.ylabel(\"Max Heart Rate\")\n",
    "plt.legend([\"Disease\", \"No Disease\"]);"
   ]
  },
  {
   "cell_type": "code",
   "execution_count": null,
   "id": "99cd1d69",
   "metadata": {},
   "outputs": [
    {
     "data": {
      "image/png": "[encoded data removed]",
      "text/plain": [
       "<Figure size 432x288 with 1 Axes>"
      ]
     },
     "metadata": {
      "needs_background": "light"
     },
     "output_type": "display_data"
    }
   ],
   "source": [
    "# Check the distribution of the age column with a histogram\n",
    "df.age.plot.hist();"
   ]
  },
  {
   "cell_type": "code",
   "execution_count": null,
   "id": "fe9360c8",
   "metadata": {},
   "outputs": [
    {
     "data": {
      "text/html": [
       "<div>\n",
       "<style scoped>\n",
       "    .dataframe tbody tr th:only-of-type {\n",
       "        vertical-align: middle;\n",
       "    }\n",
       "\n",
       "    .dataframe tbody tr th {\n",
       "        vertical-align: top;\n",
       "    }\n",
       "\n",
       "    .dataframe thead th {\n",
       "        text-align: right;\n",
       "    }\n",
       "</style>\n",
       "<table border=\"1\" class=\"dataframe\">\n",
       "  <thead>\n",
       "    <tr style=\"text-align: right;\">\n",
       "      <th>target</th>\n",
       "      <th>0</th>\n",
       "      <th>1</th>\n",
       "    </tr>\n",
       "    <tr>\n",
       "      <th>cp</th>\n",
       "      <th></th>\n",
       "      <th></th>\n",
       "    </tr>\n",
       "  </thead>\n",
       "  <tbody>\n",
       "    <tr>\n",
       "      <th>0</th>\n",
       "      <td>375</td>\n",
       "      <td>122</td>\n",
       "    </tr>\n",
       "    <tr>\n",
       "      <th>1</th>\n",
       "      <td>33</td>\n",
       "      <td>134</td>\n",
       "    </tr>\n",
       "    <tr>\n",
       "      <th>2</th>\n",
       "      <td>65</td>\n",
       "      <td>219</td>\n",
       "    </tr>\n",
       "    <tr>\n",
       "      <th>3</th>\n",
       "      <td>26</td>\n",
       "      <td>51</td>\n",
       "    </tr>\n",
       "  </tbody>\n",
       "</table>\n",
       "</div>"
      ],
      "text/plain": [
       "target    0    1\n",
       "cp              \n",
       "0       375  122\n",
       "1        33  134\n",
       "2        65  219\n",
       "3        26   51"
      ]
     },
     "execution_count": 41,
     "metadata": {},
     "output_type": "execute_result"
    }
   ],
   "source": [
    "pd.crosstab(df.cp, df.target)"
   ]
  },
  {
   "cell_type": "code",
   "execution_count": null,
   "id": "12498e28",
   "metadata": {},
   "outputs": [
    {
     "data": {
      "image/png": "[encoded data removed]",
      "text/plain": [
       "<Figure size 720x432 with 1 Axes>"
      ]
     },
     "metadata": {
      "needs_background": "light"
     },
     "output_type": "display_data"
    }
   ],
   "source": [
    "# Make the crosstab more visual\n",
    "pd.crosstab(df.cp, df.target).plot(kind=\"bar\",\n",
    "                                   figsize=(10,6),\n",
    "                                   color=[\"salmon\", \"lightblue\"])\n",
    "\n",
    "# Add some communication\n",
    "plt.title(\"Heart Disease Frequency Per Chest Pain Type\")\n",
    "plt.xlabel(\"Chest Pain Type\")\n",
    "plt.ylabel(\"Amount\")\n",
    "plt.legend([\"No Disease\", \"Disease\"])\n",
    "plt.xticks(rotation=0);"
   ]
  },
  {
   "cell_type": "code",
   "execution_count": null,
   "id": "d34175a0",
   "metadata": {},
   "outputs": [
    {
     "data": {
      "text/html": [
       "<div>\n",
       "<style scoped>\n",
       "    .dataframe tbody tr th:only-of-type {\n",
       "        vertical-align: middle;\n",
       "    }\n",
       "\n",
       "    .dataframe tbody tr th {\n",
       "        vertical-align: top;\n",
       "    }\n",
       "\n",
       "    .dataframe thead th {\n",
       "        text-align: right;\n",
       "    }\n",
       "</style>\n",
       "<table border=\"1\" class=\"dataframe\">\n",
       "  <thead>\n",
       "    <tr style=\"text-align: right;\">\n",
       "      <th></th>\n",
       "      <th>age</th>\n",
       "      <th>sex</th>\n",
       "      <th>cp</th>\n",
       "      <th>trestbps</th>\n",
       "      <th>chol</th>\n",
       "      <th>fbs</th>\n",
       "      <th>restecg</th>\n",
       "      <th>thalach</th>\n",
       "      <th>exang</th>\n",
       "      <th>oldpeak</th>\n",
       "      <th>slope</th>\n",
       "      <th>ca</th>\n",
       "      <th>thal</th>\n",
       "      <th>target</th>\n",
       "    </tr>\n",
       "  </thead>\n",
       "  <tbody>\n",
       "    <tr>\n",
       "      <th>age</th>\n",
       "      <td>1.000000</td>\n",
       "      <td>0.103240</td>\n",
       "      <td>0.071966</td>\n",
       "      <td>0.271121</td>\n",
       "      <td>0.219823</td>\n",
       "      <td>0.121243</td>\n",
       "      <td>0.132696</td>\n",
       "      <td>0.390227</td>\n",
       "      <td>0.088163</td>\n",
       "      <td>0.208137</td>\n",
       "      <td>0.169105</td>\n",
       "      <td>0.271551</td>\n",
       "      <td>0.072297</td>\n",
       "      <td>0.229324</td>\n",
       "    </tr>\n",
       "    <tr>\n",
       "      <th>sex</th>\n",
       "      <td>0.103240</td>\n",
       "      <td>1.000000</td>\n",
       "      <td>0.041119</td>\n",
       "      <td>0.078974</td>\n",
       "      <td>0.198258</td>\n",
       "      <td>0.027200</td>\n",
       "      <td>0.055117</td>\n",
       "      <td>0.049365</td>\n",
       "      <td>0.139157</td>\n",
       "      <td>0.084687</td>\n",
       "      <td>0.026666</td>\n",
       "      <td>0.111729</td>\n",
       "      <td>0.198424</td>\n",
       "      <td>0.279501</td>\n",
       "    </tr>\n",
       "    <tr>\n",
       "      <th>cp</th>\n",
       "      <td>0.071966</td>\n",
       "      <td>0.041119</td>\n",
       "      <td>1.000000</td>\n",
       "      <td>0.038177</td>\n",
       "      <td>0.081641</td>\n",
       "      <td>0.079294</td>\n",
       "      <td>0.043581</td>\n",
       "      <td>0.306839</td>\n",
       "      <td>0.401513</td>\n",
       "      <td>0.174733</td>\n",
       "      <td>0.131633</td>\n",
       "      <td>0.176206</td>\n",
       "      <td>0.163341</td>\n",
       "      <td>0.434854</td>\n",
       "    </tr>\n",
       "    <tr>\n",
       "      <th>trestbps</th>\n",
       "      <td>0.271121</td>\n",
       "      <td>0.078974</td>\n",
       "      <td>0.038177</td>\n",
       "      <td>1.000000</td>\n",
       "      <td>0.127977</td>\n",
       "      <td>0.181767</td>\n",
       "      <td>0.123794</td>\n",
       "      <td>0.039264</td>\n",
       "      <td>0.061197</td>\n",
       "      <td>0.187434</td>\n",
       "      <td>0.120445</td>\n",
       "      <td>0.104554</td>\n",
       "      <td>0.059276</td>\n",
       "      <td>0.138772</td>\n",
       "    </tr>\n",
       "    <tr>\n",
       "      <th>chol</th>\n",
       "      <td>0.219823</td>\n",
       "      <td>0.198258</td>\n",
       "      <td>0.081641</td>\n",
       "      <td>0.127977</td>\n",
       "      <td>1.000000</td>\n",
       "      <td>0.026917</td>\n",
       "      <td>0.147410</td>\n",
       "      <td>0.021772</td>\n",
       "      <td>0.067382</td>\n",
       "      <td>0.064880</td>\n",
       "      <td>0.014248</td>\n",
       "      <td>0.074259</td>\n",
       "      <td>0.100244</td>\n",
       "      <td>0.099966</td>\n",
       "    </tr>\n",
       "    <tr>\n",
       "      <th>fbs</th>\n",
       "      <td>0.121243</td>\n",
       "      <td>0.027200</td>\n",
       "      <td>0.079294</td>\n",
       "      <td>0.181767</td>\n",
       "      <td>0.026917</td>\n",
       "      <td>1.000000</td>\n",
       "      <td>0.104051</td>\n",
       "      <td>0.008866</td>\n",
       "      <td>0.049261</td>\n",
       "      <td>0.010859</td>\n",
       "      <td>0.061902</td>\n",
       "      <td>0.137156</td>\n",
       "      <td>0.042177</td>\n",
       "      <td>0.041164</td>\n",
       "    </tr>\n",
       "    <tr>\n",
       "      <th>restecg</th>\n",
       "      <td>0.132696</td>\n",
       "      <td>0.055117</td>\n",
       "      <td>0.043581</td>\n",
       "      <td>0.123794</td>\n",
       "      <td>0.147410</td>\n",
       "      <td>0.104051</td>\n",
       "      <td>1.000000</td>\n",
       "      <td>0.048411</td>\n",
       "      <td>0.065606</td>\n",
       "      <td>0.050114</td>\n",
       "      <td>0.086086</td>\n",
       "      <td>0.078072</td>\n",
       "      <td>0.020504</td>\n",
       "      <td>0.134468</td>\n",
       "    </tr>\n",
       "    <tr>\n",
       "      <th>thalach</th>\n",
       "      <td>0.390227</td>\n",
       "      <td>0.049365</td>\n",
       "      <td>0.306839</td>\n",
       "      <td>0.039264</td>\n",
       "      <td>0.021772</td>\n",
       "      <td>0.008866</td>\n",
       "      <td>0.048411</td>\n",
       "      <td>1.000000</td>\n",
       "      <td>0.380281</td>\n",
       "      <td>0.349796</td>\n",
       "      <td>0.395308</td>\n",
       "      <td>0.207888</td>\n",
       "      <td>0.098068</td>\n",
       "      <td>0.422895</td>\n",
       "    </tr>\n",
       "    <tr>\n",
       "      <th>exang</th>\n",
       "      <td>0.088163</td>\n",
       "      <td>0.139157</td>\n",
       "      <td>0.401513</td>\n",
       "      <td>0.061197</td>\n",
       "      <td>0.067382</td>\n",
       "      <td>0.049261</td>\n",
       "      <td>0.065606</td>\n",
       "      <td>0.380281</td>\n",
       "      <td>1.000000</td>\n",
       "      <td>0.310844</td>\n",
       "      <td>0.267335</td>\n",
       "      <td>0.107849</td>\n",
       "      <td>0.197201</td>\n",
       "      <td>0.438029</td>\n",
       "    </tr>\n",
       "    <tr>\n",
       "      <th>oldpeak</th>\n",
       "      <td>0.208137</td>\n",
       "      <td>0.084687</td>\n",
       "      <td>0.174733</td>\n",
       "      <td>0.187434</td>\n",
       "      <td>0.064880</td>\n",
       "      <td>0.010859</td>\n",
       "      <td>0.050114</td>\n",
       "      <td>0.349796</td>\n",
       "      <td>0.310844</td>\n",
       "      <td>1.000000</td>\n",
       "      <td>0.575189</td>\n",
       "      <td>0.221816</td>\n",
       "      <td>0.202672</td>\n",
       "      <td>0.438441</td>\n",
       "    </tr>\n",
       "    <tr>\n",
       "      <th>slope</th>\n",
       "      <td>0.169105</td>\n",
       "      <td>0.026666</td>\n",
       "      <td>0.131633</td>\n",
       "      <td>0.120445</td>\n",
       "      <td>0.014248</td>\n",
       "      <td>0.061902</td>\n",
       "      <td>0.086086</td>\n",
       "      <td>0.395308</td>\n",
       "      <td>0.267335</td>\n",
       "      <td>0.575189</td>\n",
       "      <td>1.000000</td>\n",
       "      <td>0.073440</td>\n",
       "      <td>0.094090</td>\n",
       "      <td>0.345512</td>\n",
       "    </tr>\n",
       "    <tr>\n",
       "      <th>ca</th>\n",
       "      <td>0.271551</td>\n",
       "      <td>0.111729</td>\n",
       "      <td>0.176206</td>\n",
       "      <td>0.104554</td>\n",
       "      <td>0.074259</td>\n",
       "      <td>0.137156</td>\n",
       "      <td>0.078072</td>\n",
       "      <td>0.207888</td>\n",
       "      <td>0.107849</td>\n",
       "      <td>0.221816</td>\n",
       "      <td>0.073440</td>\n",
       "      <td>1.000000</td>\n",
       "      <td>0.149014</td>\n",
       "      <td>0.382085</td>\n",
       "    </tr>\n",
       "    <tr>\n",
       "      <th>thal</th>\n",
       "      <td>0.072297</td>\n",
       "      <td>0.198424</td>\n",
       "      <td>0.163341</td>\n",
       "      <td>0.059276</td>\n",
       "      <td>0.100244</td>\n",
       "      <td>0.042177</td>\n",
       "      <td>0.020504</td>\n",
       "      <td>0.098068</td>\n",
       "      <td>0.197201</td>\n",
       "      <td>0.202672</td>\n",
       "      <td>0.094090</td>\n",
       "      <td>0.149014</td>\n",
       "      <td>1.000000</td>\n",
       "      <td>0.337838</td>\n",
       "    </tr>\n",
       "    <tr>\n",
       "      <th>target</th>\n",
       "      <td>0.229324</td>\n",
       "      <td>0.279501</td>\n",
       "      <td>0.434854</td>\n",
       "      <td>0.138772</td>\n",
       "      <td>0.099966</td>\n",
       "      <td>0.041164</td>\n",
       "      <td>0.134468</td>\n",
       "      <td>0.422895</td>\n",
       "      <td>0.438029</td>\n",
       "      <td>0.438441</td>\n",
       "      <td>0.345512</td>\n",
       "      <td>0.382085</td>\n",
       "      <td>0.337838</td>\n",
       "      <td>1.000000</td>\n",
       "    </tr>\n",
       "  </tbody>\n",
       "</table>\n",
       "</div>"
      ],
      "text/plain": [
       "               age       sex        cp  trestbps      chol       fbs  \\\n",
       "age       1.000000  0.103240  0.071966  0.271121  0.219823  0.121243   \n",
       "sex       0.103240  1.000000  0.041119  0.078974  0.198258  0.027200   \n",
       "cp        0.071966  0.041119  1.000000  0.038177  0.081641  0.079294   \n",
       "trestbps  0.271121  0.078974  0.038177  1.000000  0.127977  0.181767   \n",
       "chol      0.219823  0.198258  0.081641  0.127977  1.000000  0.026917   \n",
       "fbs       0.121243  0.027200  0.079294  0.181767  0.026917  1.000000   \n",
       "restecg   0.132696  0.055117  0.043581  0.123794  0.147410  0.104051   \n",
       "thalach   0.390227  0.049365  0.306839  0.039264  0.021772  0.008866   \n",
       "exang     0.088163  0.139157  0.401513  0.061197  0.067382  0.049261   \n",
       "oldpeak   0.208137  0.084687  0.174733  0.187434  0.064880  0.010859   \n",
       "slope     0.169105  0.026666  0.131633  0.120445  0.014248  0.061902   \n",
       "ca        0.271551  0.111729  0.176206  0.104554  0.074259  0.137156   \n",
       "thal      0.072297  0.198424  0.163341  0.059276  0.100244  0.042177   \n",
       "target    0.229324  0.279501  0.434854  0.138772  0.099966  0.041164   \n",
       "\n",
       "           restecg   thalach     exang   oldpeak     slope        ca  \\\n",
       "age       0.132696  0.390227  0.088163  0.208137  0.169105  0.271551   \n",
       "sex       0.055117  0.049365  0.139157  0.084687  0.026666  0.111729   \n",
       "cp        0.043581  0.306839  0.401513  0.174733  0.131633  0.176206   \n",
       "trestbps  0.123794  0.039264  0.061197  0.187434  0.120445  0.104554   \n",
       "chol      0.147410  0.021772  0.067382  0.064880  0.014248  0.074259   \n",
       "fbs       0.104051  0.008866  0.049261  0.010859  0.061902  0.137156   \n",
       "restecg   1.000000  0.048411  0.065606  0.050114  0.086086  0.078072   \n",
       "thalach   0.048411  1.000000  0.380281  0.349796  0.395308  0.207888   \n",
       "exang     0.065606  0.380281  1.000000  0.310844  0.267335  0.107849   \n",
       "oldpeak   0.050114  0.349796  0.310844  1.000000  0.575189  0.221816   \n",
       "slope     0.086086  0.395308  0.267335  0.575189  1.000000  0.073440   \n",
       "ca        0.078072  0.207888  0.107849  0.221816  0.073440  1.000000   \n",
       "thal      0.020504  0.098068  0.197201  0.202672  0.094090  0.149014   \n",
       "target    0.134468  0.422895  0.438029  0.438441  0.345512  0.382085   \n",
       "\n",
       "              thal    target  \n",
       "age       0.072297  0.229324  \n",
       "sex       0.198424  0.279501  \n",
       "cp        0.163341  0.434854  \n",
       "trestbps  0.059276  0.138772  \n",
       "chol      0.100244  0.099966  \n",
       "fbs       0.042177  0.041164  \n",
       "restecg   0.020504  0.134468  \n",
       "thalach   0.098068  0.422895  \n",
       "exang     0.197201  0.438029  \n",
       "oldpeak   0.202672  0.438441  \n",
       "slope     0.094090  0.345512  \n",
       "ca        0.149014  0.382085  \n",
       "thal      1.000000  0.337838  \n",
       "target    0.337838  1.000000  "
      ]
     },
     "execution_count": 43,
     "metadata": {},
     "output_type": "execute_result"
    }
   ],
   "source": [
    "# Make a correlation matrix\n",
    "abs(df.corr())"
   ]
  },
  {
   "cell_type": "code",
   "execution_count": null,
   "id": "aace072a",
   "metadata": {},
   "outputs": [
    {
     "data": {
      "text/plain": [
       "age         0.229324\n",
       "sex         0.279501\n",
       "cp          0.434854\n",
       "trestbps    0.138772\n",
       "chol        0.099966\n",
       "fbs         0.041164\n",
       "restecg     0.134468\n",
       "thalach     0.422895\n",
       "exang       0.438029\n",
       "oldpeak     0.438441\n",
       "slope       0.345512\n",
       "ca          0.382085\n",
       "thal        0.337838\n",
       "dtype: float64"
      ]
     },
     "execution_count": 44,
     "metadata": {},
     "output_type": "execute_result"
    }
   ],
   "source": [
    "abs(df.drop('target',axis=1).corrwith(df['target']))"
   ]
  },
  {
   "cell_type": "code",
   "execution_count": null,
   "id": "fab9cfe9",
   "metadata": {},
   "outputs": [
    {
     "data": {
      "text/plain": [
       "<AxesSubplot:title={'center':'correlation with income'}>"
      ]
     },
     "execution_count": 45,
     "metadata": {},
     "output_type": "execute_result"
    },
    {
     "data": {
      "image/png": "[encoded data removed]",
      "text/plain": [
       "<Figure size 720x720 with 1 Axes>"
      ]
     },
     "metadata": {
      "needs_background": "light"
     },
     "output_type": "display_data"
    }
   ],
   "source": [
    "abs(df.drop('target',axis=1).corrwith(df['target'])).plot(kind='bar',grid=True,figsize=(10,10),title='correlation with income')"
   ]
  },
  {
   "cell_type": "code",
   "execution_count": null,
   "id": "57d09dd7",
   "metadata": {},
   "outputs": [
    {
     "data": {
      "text/plain": [
       "age         13.0\n",
       "sex          1.0\n",
       "cp           2.0\n",
       "trestbps    20.0\n",
       "chol        64.0\n",
       "fbs          0.0\n",
       "restecg      1.0\n",
       "thalach     34.0\n",
       "exang        1.0\n",
       "oldpeak      1.8\n",
       "slope        1.0\n",
       "ca           1.0\n",
       "thal         1.0\n",
       "target       1.0\n",
       "dtype: float64"
      ]
     },
     "execution_count": 46,
     "metadata": {},
     "output_type": "execute_result"
    }
   ],
   "source": [
    "q1 = df.quantile(0.25)\n",
    "q3 = df.quantile(0.75)\n",
    "IQR=q3-q1\n",
    "IQR"
   ]
  },
  {
   "cell_type": "code",
   "execution_count": null,
   "id": "68876ddb",
   "metadata": {},
   "outputs": [
    {
     "data": {
      "text/plain": [
       "['age', 'trestbps', 'chol', 'thalach']"
      ]
     },
     "execution_count": 47,
     "metadata": {},
     "output_type": "execute_result"
    }
   ],
   "source": [
    "cols = ['age','trestbps','chol','thalach']\n",
    "cols"
   ]
  },
  {
   "cell_type": "code",
   "execution_count": null,
   "id": "3bf2b78f",
   "metadata": {},
   "outputs": [],
   "source": [
    "for i in cols:\n",
    "    itv_high = (q3[i]+1.5*IQR[i])\n",
    "    ind = np.where(df[i]>itv_high)\n",
    "    df.drop(df.index[ind])"
   ]
  },
  {
   "cell_type": "code",
   "execution_count": null,
   "id": "d6bf2077",
   "metadata": {},
   "outputs": [],
   "source": [
    "# Split data into X & y\n",
    "X = df.drop(\"target\", axis=1)\n",
    "y = df[\"target\"]"
   ]
  },
  {
   "cell_type": "code",
   "execution_count": null,
   "id": "3b8e574a",
   "metadata": {},
   "outputs": [
    {
     "data": {
      "text/html": [
       "<div>\n",
       "<style scoped>\n",
       "    .dataframe tbody tr th:only-of-type {\n",
       "        vertical-align: middle;\n",
       "    }\n",
       "\n",
       "    .dataframe tbody tr th {\n",
       "        vertical-align: top;\n",
       "    }\n",
       "\n",
       "    .dataframe thead th {\n",
       "        text-align: right;\n",
       "    }\n",
       "</style>\n",
       "<table border=\"1\" class=\"dataframe\">\n",
       "  <thead>\n",
       "    <tr style=\"text-align: right;\">\n",
       "      <th></th>\n",
       "      <th>age</th>\n",
       "      <th>sex</th>\n",
       "      <th>cp</th>\n",
       "      <th>trestbps</th>\n",
       "      <th>chol</th>\n",
       "      <th>fbs</th>\n",
       "      <th>restecg</th>\n",
       "      <th>thalach</th>\n",
       "      <th>exang</th>\n",
       "      <th>oldpeak</th>\n",
       "      <th>slope</th>\n",
       "      <th>ca</th>\n",
       "      <th>thal</th>\n",
       "    </tr>\n",
       "  </thead>\n",
       "  <tbody>\n",
       "    <tr>\n",
       "      <th>0</th>\n",
       "      <td>52</td>\n",
       "      <td>1</td>\n",
       "      <td>0</td>\n",
       "      <td>125</td>\n",
       "      <td>212</td>\n",
       "      <td>0</td>\n",
       "      <td>1</td>\n",
       "      <td>168</td>\n",
       "      <td>0</td>\n",
       "      <td>1.0</td>\n",
       "      <td>2</td>\n",
       "      <td>2</td>\n",
       "      <td>3</td>\n",
       "    </tr>\n",
       "    <tr>\n",
       "      <th>1</th>\n",
       "      <td>53</td>\n",
       "      <td>1</td>\n",
       "      <td>0</td>\n",
       "      <td>140</td>\n",
       "      <td>203</td>\n",
       "      <td>1</td>\n",
       "      <td>0</td>\n",
       "      <td>155</td>\n",
       "      <td>1</td>\n",
       "      <td>3.1</td>\n",
       "      <td>0</td>\n",
       "      <td>0</td>\n",
       "      <td>3</td>\n",
       "    </tr>\n",
       "    <tr>\n",
       "      <th>2</th>\n",
       "      <td>70</td>\n",
       "      <td>1</td>\n",
       "      <td>0</td>\n",
       "      <td>145</td>\n",
       "      <td>174</td>\n",
       "      <td>0</td>\n",
       "      <td>1</td>\n",
       "      <td>125</td>\n",
       "      <td>1</td>\n",
       "      <td>2.6</td>\n",
       "      <td>0</td>\n",
       "      <td>0</td>\n",
       "      <td>3</td>\n",
       "    </tr>\n",
       "    <tr>\n",
       "      <th>3</th>\n",
       "      <td>61</td>\n",
       "      <td>1</td>\n",
       "      <td>0</td>\n",
       "      <td>148</td>\n",
       "      <td>203</td>\n",
       "      <td>0</td>\n",
       "      <td>1</td>\n",
       "      <td>161</td>\n",
       "      <td>0</td>\n",
       "      <td>0.0</td>\n",
       "      <td>2</td>\n",
       "      <td>1</td>\n",
       "      <td>3</td>\n",
       "    </tr>\n",
       "    <tr>\n",
       "      <th>4</th>\n",
       "      <td>62</td>\n",
       "      <td>0</td>\n",
       "      <td>0</td>\n",
       "      <td>138</td>\n",
       "      <td>294</td>\n",
       "      <td>1</td>\n",
       "      <td>1</td>\n",
       "      <td>106</td>\n",
       "      <td>0</td>\n",
       "      <td>1.9</td>\n",
       "      <td>1</td>\n",
       "      <td>3</td>\n",
       "      <td>2</td>\n",
       "    </tr>\n",
       "  </tbody>\n",
       "</table>\n",
       "</div>"
      ],
      "text/plain": [
       "   age  sex  cp  trestbps  chol  fbs  restecg  thalach  exang  oldpeak  slope  \\\n",
       "0   52    1   0       125   212    0        1      168      0      1.0      2   \n",
       "1   53    1   0       140   203    1        0      155      1      3.1      0   \n",
       "2   70    1   0       145   174    0        1      125      1      2.6      0   \n",
       "3   61    1   0       148   203    0        1      161      0      0.0      2   \n",
       "4   62    0   0       138   294    1        1      106      0      1.9      1   \n",
       "\n",
       "   ca  thal  \n",
       "0   2     3  \n",
       "1   0     3  \n",
       "2   0     3  \n",
       "3   1     3  \n",
       "4   3     2  "
      ]
     },
     "execution_count": 50,
     "metadata": {},
     "output_type": "execute_result"
    }
   ],
   "source": [
    "X.head()"
   ]
  },
  {
   "cell_type": "code",
   "execution_count": null,
   "id": "15a6066f",
   "metadata": {},
   "outputs": [
    {
     "data": {
      "text/plain": [
       "0       0\n",
       "1       0\n",
       "2       0\n",
       "3       0\n",
       "4       0\n",
       "       ..\n",
       "1020    1\n",
       "1021    0\n",
       "1022    0\n",
       "1023    1\n",
       "1024    0\n",
       "Name: target, Length: 1025, dtype: int64"
      ]
     },
     "execution_count": 51,
     "metadata": {},
     "output_type": "execute_result"
    }
   ],
   "source": [
    "y"
   ]
  },
  {
   "cell_type": "code",
   "execution_count": null,
   "id": "6fe99285",
   "metadata": {},
   "outputs": [],
   "source": [
    "# Split data into train and test sets\n",
    "np.random.seed(7)\n",
    "\n",
    "# Split data\n",
    "X_train, X_test, y_train, y_test = train_test_split(X,y,test_size=0.2)"
   ]
  },
  {
   "cell_type": "code",
   "execution_count": null,
   "id": "1249b9b9",
   "metadata": {},
   "outputs": [
    {
     "data": {
      "text/plain": [
       "(820, 205, 820, 205)"
      ]
     },
     "execution_count": 53,
     "metadata": {},
     "output_type": "execute_result"
    }
   ],
   "source": [
    "len(X_train), len(X_test), len(y_train), len(y_test)"
   ]
  },
  {
   "cell_type": "code",
   "execution_count": null,
   "id": "2525f709",
   "metadata": {},
   "outputs": [
    {
     "data": {
      "text/plain": [
       "(820, 13)"
      ]
     },
     "execution_count": 54,
     "metadata": {},
     "output_type": "execute_result"
    }
   ],
   "source": [
    "X_train.shape"
   ]
  },
  {
   "cell_type": "code",
   "execution_count": null,
   "id": "8538b1e9",
   "metadata": {},
   "outputs": [
    {
     "data": {
      "text/plain": [
       "(205, 13)"
      ]
     },
     "execution_count": 55,
     "metadata": {},
     "output_type": "execute_result"
    }
   ],
   "source": [
    "X_test.shape"
   ]
  },
  {
   "cell_type": "code",
   "execution_count": null,
   "id": "50e861c3",
   "metadata": {},
   "outputs": [
    {
     "data": {
      "text/plain": [
       "(820,)"
      ]
     },
     "execution_count": 56,
     "metadata": {},
     "output_type": "execute_result"
    }
   ],
   "source": [
    "y_train.shape"
   ]
  },
  {
   "cell_type": "code",
   "execution_count": null,
   "id": "45c66fa6",
   "metadata": {},
   "outputs": [
    {
     "data": {
      "text/plain": [
       "(205,)"
      ]
     },
     "execution_count": 57,
     "metadata": {},
     "output_type": "execute_result"
    }
   ],
   "source": [
    "y_test.shape"
   ]
  },
  {
   "cell_type": "code",
   "execution_count": null,
   "id": "b72196ad",
   "metadata": {},
   "outputs": [],
   "source": [
    "from sklearn.metrics import accuracy_score"
   ]
  },
  {
   "cell_type": "code",
   "execution_count": null,
   "id": "1f6bca75",
   "metadata": {},
   "outputs": [],
   "source": [
    "#LOGISTIC REGRESSION\n",
    "import warnings\n",
    "warnings.filterwarnings('ignore')"
   ]
  },
  {
   "cell_type": "code",
   "execution_count": null,
   "id": "3c230ea5",
   "metadata": {},
   "outputs": [],
   "source": [
    "from sklearn.linear_model import LogisticRegression\n",
    "\n",
    "lr = LogisticRegression()\n",
    "\n",
    "lr.fit(X_train,y_train)\n",
    "\n",
    "y_pred_lr = lr.predict(X_test)"
   ]
  },
  {
   "cell_type": "code",
   "execution_count": null,
   "id": "b6889da8",
   "metadata": {},
   "outputs": [
    {
     "data": {
      "text/plain": [
       "(205,)"
      ]
     },
     "execution_count": 61,
     "metadata": {},
     "output_type": "execute_result"
    }
   ],
   "source": [
    "y_pred_lr.shape"
   ]
  },
  {
   "cell_type": "code",
   "execution_count": null,
   "id": "b34c0e1f",
   "metadata": {},
   "outputs": [
    {
     "name": "stdout",
     "output_type": "stream",
     "text": [
      "The accuracy score achieved using Logistic Regression is: 87.8 %\n"
     ]
    }
   ],
   "source": [
    "score_lr = round(accuracy_score(y_pred_lr,y_test)*100,2)\n",
    "\n",
    "print(\"The accuracy score achieved using Logistic Regression is: \"+str(score_lr)+\" %\")"
   ]
  },
  {
   "cell_type": "code",
   "execution_count": null,
   "id": "6a915b3b",
   "metadata": {},
   "outputs": [
    {
     "data": {
      "text/plain": [
       "<AxesSubplot:>"
      ]
     },
     "execution_count": 63,
     "metadata": {},
     "output_type": "execute_result"
    },
    {
     "data": {
      "image/png": "[encoded data removed]",
      "text/plain": [
       "<Figure size 432x288 with 2 Axes>"
      ]
     },
     "metadata": {
      "needs_background": "light"
     },
     "output_type": "display_data"
    }
   ],
   "source": [
    "cm = pd.DataFrame(confusion_matrix(y_pred_lr,y_test))\n",
    "sns.heatmap(cm, annot=True,cmap=\"mako_r\")"
   ]
  },
  {
   "cell_type": "code",
   "execution_count": null,
   "id": "d711603c",
   "metadata": {},
   "outputs": [
    {
     "name": "stdout",
     "output_type": "stream",
     "text": [
      "              precision    recall  f1-score   support\n",
      "\n",
      "           0       0.87      0.86      0.86        90\n",
      "           1       0.89      0.90      0.89       115\n",
      "\n",
      "    accuracy                           0.88       205\n",
      "   macro avg       0.88      0.88      0.88       205\n",
      "weighted avg       0.88      0.88      0.88       205\n",
      "\n"
     ]
    }
   ],
   "source": [
    "print(classification_report(y_pred_lr,y_test))"
   ]
  },
  {
   "cell_type": "code",
   "execution_count": null,
   "id": "5c463891",
   "metadata": {},
   "outputs": [],
   "source": [
    "#NAIVE BAYES"
   ]
  },
  {
   "cell_type": "code",
   "execution_count": null,
   "id": "8c20fcd7",
   "metadata": {},
   "outputs": [],
   "source": [
    "from sklearn.naive_bayes import GaussianNB\n",
    "\n",
    "nb = GaussianNB()\n",
    "\n",
    "nb.fit(X_train,y_train)\n",
    "\n",
    "y_pred_nb = nb.predict(X_test)"
   ]
  },
  {
   "cell_type": "code",
   "execution_count": null,
   "id": "b044411b",
   "metadata": {},
   "outputs": [
    {
     "data": {
      "text/plain": [
       "(205,)"
      ]
     },
     "execution_count": 67,
     "metadata": {},
     "output_type": "execute_result"
    }
   ],
   "source": [
    "y_pred_nb.shape"
   ]
  },
  {
   "cell_type": "code",
   "execution_count": null,
   "id": "fb377a41",
   "metadata": {},
   "outputs": [
    {
     "data": {
      "text/plain": [
       "<AxesSubplot:>"
      ]
     },
     "execution_count": 68,
     "metadata": {},
     "output_type": "execute_result"
    },
    {
     "data": {
      "image/png": "[encoded data removed]",
      "text/plain": [
       "<Figure size 432x288 with 2 Axes>"
      ]
     },
     "metadata": {
      "needs_background": "light"
     },
     "output_type": "display_data"
    }
   ],
   "source": [
    "cm = pd.DataFrame(confusion_matrix(y_pred_nb,y_test))\n",
    "sns.heatmap(cm, annot=True,cmap=\"mako_r\")"
   ]
  },
  {
   "cell_type": "code",
   "execution_count": null,
   "id": "53aa4c3b",
   "metadata": {},
   "outputs": [
    {
     "name": "stdout",
     "output_type": "stream",
     "text": [
      "              precision    recall  f1-score   support\n",
      "\n",
      "           0       0.81      0.84      0.82        86\n",
      "           1       0.88      0.86      0.87       119\n",
      "\n",
      "    accuracy                           0.85       205\n",
      "   macro avg       0.84      0.85      0.85       205\n",
      "weighted avg       0.85      0.85      0.85       205\n",
      "\n"
     ]
    }
   ],
   "source": [
    "print(classification_report(y_pred_nb,y_test))"
   ]
  },
  {
   "cell_type": "code",
   "execution_count": null,
   "id": "3674144b",
   "metadata": {},
   "outputs": [
    {
     "name": "stdout",
     "output_type": "stream",
     "text": [
      "The accuracy score achieved using Naive Bayes is: 84.88 %\n"
     ]
    }
   ],
   "source": [
    "score_nb = round(accuracy_score(y_pred_nb,y_test)*100,2)\n",
    "\n",
    "print(\"The accuracy score achieved using Naive Bayes is: \"+str(score_nb)+\" %\")"
   ]
  },
  {
   "cell_type": "code",
   "execution_count": null,
   "id": "ad7a72e1",
   "metadata": {},
   "outputs": [],
   "source": [
    "#SVM"
   ]
  },
  {
   "cell_type": "code",
   "execution_count": null,
   "id": "655a9503",
   "metadata": {},
   "outputs": [],
   "source": [
    "from sklearn import svm\n",
    "\n",
    "sv = svm.SVC(kernel='linear')\n",
    "\n",
    "sv.fit(X_train, y_train)\n",
    "\n",
    "y_pred_svm = sv.predict(X_test)"
   ]
  },
  {
   "cell_type": "code",
   "execution_count": null,
   "id": "3494cec9",
   "metadata": {},
   "outputs": [
    {
     "data": {
      "text/plain": [
       "(205,)"
      ]
     },
     "execution_count": 73,
     "metadata": {},
     "output_type": "execute_result"
    }
   ],
   "source": [
    "y_pred_svm.shape"
   ]
  },
  {
   "cell_type": "code",
   "execution_count": null,
   "id": "eb2f141c",
   "metadata": {},
   "outputs": [
    {
     "name": "stdout",
     "output_type": "stream",
     "text": [
      "The accuracy score achieved using Linear SVM is: 85.85 %\n"
     ]
    }
   ],
   "source": [
    "score_svm = round(accuracy_score(y_pred_svm,y_test)*100,2)\n",
    "\n",
    "print(\"The accuracy score achieved using Linear SVM is: \"+str(score_svm)+\" %\")"
   ]
  },
  {
   "cell_type": "code",
   "execution_count": null,
   "id": "22c10db8",
   "metadata": {},
   "outputs": [
    {
     "data": {
      "text/plain": [
       "<AxesSubplot:>"
      ]
     },
     "execution_count": 75,
     "metadata": {},
     "output_type": "execute_result"
    },
    {
     "data": {
      "image/png": "[encoded data removed]",
      "text/plain": [
       "<Figure size 432x288 with 2 Axes>"
      ]
     },
     "metadata": {
      "needs_background": "light"
     },
     "output_type": "display_data"
    }
   ],
   "source": [
    "cm = pd.DataFrame(confusion_matrix(y_pred_svm,y_test))\n",
    "sns.heatmap(cm, annot=True,cmap=\"mako_r\")"
   ]
  },
  {
   "cell_type": "code",
   "execution_count": null,
   "id": "aa004cd7",
   "metadata": {},
   "outputs": [
    {
     "name": "stdout",
     "output_type": "stream",
     "text": [
      "              precision    recall  f1-score   support\n",
      "\n",
      "           0       0.82      0.85      0.83        86\n",
      "           1       0.89      0.87      0.88       119\n",
      "\n",
      "    accuracy                           0.86       205\n",
      "   macro avg       0.85      0.86      0.86       205\n",
      "weighted avg       0.86      0.86      0.86       205\n",
      "\n"
     ]
    }
   ],
   "source": [
    "print(classification_report(y_pred_svm,y_test))"
   ]
  },
  {
   "cell_type": "code",
   "execution_count": null,
   "id": "aec3e192",
   "metadata": {},
   "outputs": [],
   "source": [
    "#KNN"
   ]
  },
  {
   "cell_type": "code",
   "execution_count": null,
   "id": "06c9c385",
   "metadata": {},
   "outputs": [],
   "source": [
    "from sklearn.neighbors import KNeighborsClassifier\n",
    "\n",
    "knn = KNeighborsClassifier(n_neighbors=7)\n",
    "knn.fit(X_train,y_train)\n",
    "y_pred_knn=knn.predict(X_test)"
   ]
  },
  {
   "cell_type": "code",
   "execution_count": null,
   "id": "785a56f2",
   "metadata": {},
   "outputs": [
    {
     "data": {
      "text/plain": [
       "(205,)"
      ]
     },
     "execution_count": 79,
     "metadata": {},
     "output_type": "execute_result"
    }
   ],
   "source": [
    "y_pred_knn.shape"
   ]
  },
  {
   "cell_type": "code",
   "execution_count": null,
   "id": "5dc710f1",
   "metadata": {},
   "outputs": [
    {
     "name": "stdout",
     "output_type": "stream",
     "text": [
      "The accuracy score achieved using KNN is: 73.17 %\n"
     ]
    }
   ],
   "source": [
    "score_knn = round(accuracy_score(y_pred_knn,y_test)*100,2)\n",
    "\n",
    "print(\"The accuracy score achieved using KNN is: \"+str(score_knn)+\" %\")"
   ]
  },
  {
   "cell_type": "code",
   "execution_count": null,
   "id": "9d35378d",
   "metadata": {},
   "outputs": [
    {
     "data": {
      "text/plain": [
       "<AxesSubplot:>"
      ]
     },
     "execution_count": 81,
     "metadata": {},
     "output_type": "execute_result"
    },
    {
     "data": {
      "image/png": "[encoded data removed]",
      "text/plain": [
       "<Figure size 432x288 with 2 Axes>"
      ]
     },
     "metadata": {
      "needs_background": "light"
     },
     "output_type": "display_data"
    }
   ],
   "source": [
    "cm = pd.DataFrame(confusion_matrix(y_pred_knn,y_test))\n",
    "sns.heatmap(cm, annot=True,cmap=\"mako_r\")"
   ]
  },
  {
   "cell_type": "code",
   "execution_count": null,
   "id": "d97be2c1",
   "metadata": {},
   "outputs": [
    {
     "name": "stdout",
     "output_type": "stream",
     "text": [
      "              precision    recall  f1-score   support\n",
      "\n",
      "           0       0.70      0.69      0.69        90\n",
      "           1       0.76      0.77      0.76       115\n",
      "\n",
      "    accuracy                           0.73       205\n",
      "   macro avg       0.73      0.73      0.73       205\n",
      "weighted avg       0.73      0.73      0.73       205\n",
      "\n"
     ]
    }
   ],
   "source": [
    "print(classification_report(y_pred_knn,y_test))"
   ]
  },
  {
   "cell_type": "code",
   "execution_count": null,
   "id": "45fdadde",
   "metadata": {},
   "outputs": [],
   "source": [
    "#DECISION TREE"
   ]
  },
  {
   "cell_type": "code",
   "execution_count": null,
   "id": "7c673d69",
   "metadata": {},
   "outputs": [],
   "source": [
    "from sklearn.tree import DecisionTreeClassifier\n",
    "\n",
    "max_accuracy = 0\n",
    "\n",
    "\n",
    "for x in range(200):\n",
    "    dt = DecisionTreeClassifier(random_state=x)\n",
    "    dt.fit(X_train,y_train)\n",
    "    y_pred_dt = dt.predict(X_test)\n",
    "    current_accuracy = round(accuracy_score(y_pred_dt,y_test)*100,2)\n",
    "    if(current_accuracy>max_accuracy):\n",
    "        max_accuracy = current_accuracy\n",
    "        best_x = x\n",
    "        \n",
    "#print(max_accuracy)\n",
    "#print(best_x)\n",
    "\n",
    "\n",
    "dt = DecisionTreeClassifier(random_state=best_x)\n",
    "dt.fit(X_train,y_train)\n",
    "y_pred_dt = dt.predict(X_test)"
   ]
  },
  {
   "cell_type": "code",
   "execution_count": null,
   "id": "4238cf4e",
   "metadata": {},
   "outputs": [
    {
     "name": "stdout",
     "output_type": "stream",
     "text": [
      "(205,)\n"
     ]
    }
   ],
   "source": [
    "print(y_pred_dt.shape)"
   ]
  },
  {
   "cell_type": "code",
   "execution_count": null,
   "id": "e59e2d75",
   "metadata": {},
   "outputs": [
    {
     "name": "stdout",
     "output_type": "stream",
     "text": [
      "The accuracy score achieved using Decision Tree is: 100.0 %\n"
     ]
    }
   ],
   "source": [
    "score_dt = round(accuracy_score(y_pred_dt,y_test)*100,2)\n",
    "\n",
    "print(\"The accuracy score achieved using Decision Tree is: \"+str(score_dt)+\" %\")"
   ]
  },
  {
   "cell_type": "code",
   "execution_count": null,
   "id": "12c6880b",
   "metadata": {},
   "outputs": [
    {
     "data": {
      "text/plain": [
       "<AxesSubplot:>"
      ]
     },
     "execution_count": 87,
     "metadata": {},
     "output_type": "execute_result"
    },
    {
     "data": {
      "image/png": "[encoded data removed]",
      "text/plain": [
       "<Figure size 432x288 with 2 Axes>"
      ]
     },
     "metadata": {
      "needs_background": "light"
     },
     "output_type": "display_data"
    }
   ],
   "source": [
    "cm = pd.DataFrame(confusion_matrix(y_pred_dt,y_test))\n",
    "sns.heatmap(cm, annot=True,cmap=\"mako_r\")"
   ]
  },
  {
   "cell_type": "code",
   "execution_count": null,
   "id": "ebd8a761",
   "metadata": {},
   "outputs": [
    {
     "name": "stdout",
     "output_type": "stream",
     "text": [
      "              precision    recall  f1-score   support\n",
      "\n",
      "           0       1.00      1.00      1.00        89\n",
      "           1       1.00      1.00      1.00       116\n",
      "\n",
      "    accuracy                           1.00       205\n",
      "   macro avg       1.00      1.00      1.00       205\n",
      "weighted avg       1.00      1.00      1.00       205\n",
      "\n"
     ]
    }
   ],
   "source": [
    "print(classification_report(y_pred_dt,y_test))"
   ]
  },
  {
   "cell_type": "code",
   "execution_count": null,
   "id": "49509441",
   "metadata": {},
   "outputs": [],
   "source": [
    "from sklearn.ensemble import RandomForestClassifier\n",
    "\n",
    "max_accuracy = 0\n",
    "\n",
    "\n",
    "for x in range(2000):\n",
    "    rf = RandomForestClassifier(random_state=x)\n",
    "    rf.fit(X_train,y_train)\n",
    "    y_pred_rf = rf.predict(X_test)\n",
    "    current_accuracy = round(accuracy_score(y_pred_rf,y_test)*100,2)\n",
    "    if(current_accuracy>max_accuracy):\n",
    "        max_accuracy = current_accuracy\n",
    "        best_x = x\n",
    "        \n",
    "#print(max_accuracy)\n",
    "#print(best_x)\n",
    "\n",
    "rf = RandomForestClassifier(random_state=best_x)\n",
    "rf.fit(X_train,y_train)\n",
    "y_pred_rf = rf.predict(X_test)"
   ]
  },
  {
   "cell_type": "code",
   "execution_count": null,
   "id": "fe631794",
   "metadata": {},
   "outputs": [
    {
     "data": {
      "text/plain": [
       "(205,)"
      ]
     },
     "execution_count": 90,
     "metadata": {},
     "output_type": "execute_result"
    }
   ],
   "source": [
    "y_pred_rf.shape"
   ]
  },
  {
   "cell_type": "code",
   "execution_count": null,
   "id": "501e1f33",
   "metadata": {},
   "outputs": [
    {
     "name": "stdout",
     "output_type": "stream",
     "text": [
      "The accuracy score achieved using Random Forest is: 100.0 %\n"
     ]
    }
   ],
   "source": [
    "score_rf = round(accuracy_score(y_pred_rf,y_test)*100,2)\n",
    "\n",
    "print(\"The accuracy score achieved using Random Forest is: \"+str(score_rf)+\" %\")"
   ]
  },
  {
   "cell_type": "code",
   "execution_count": null,
   "id": "233516ca",
   "metadata": {},
   "outputs": [
    {
     "data": {
      "text/plain": [
       "<AxesSubplot:>"
      ]
     },
     "execution_count": 92,
     "metadata": {},
     "output_type": "execute_result"
    },
    {
     "data": {
      "image/png": "[encoded data removed]",
      "text/plain": [
       "<Figure size 432x288 with 2 Axes>"
      ]
     },
     "metadata": {
      "needs_background": "light"
     },
     "output_type": "display_data"
    }
   ],
   "source": [
    "cm = pd.DataFrame(confusion_matrix(y_pred_rf,y_test))\n",
    "sns.heatmap(cm, annot=True,cmap=\"mako_r\")"
   ]
  },
  {
   "cell_type": "code",
   "execution_count": null,
   "id": "2d03cd81",
   "metadata": {},
   "outputs": [
    {
     "name": "stdout",
     "output_type": "stream",
     "text": [
      "              precision    recall  f1-score   support\n",
      "\n",
      "           0       1.00      1.00      1.00        89\n",
      "           1       1.00      1.00      1.00       116\n",
      "\n",
      "    accuracy                           1.00       205\n",
      "   macro avg       1.00      1.00      1.00       205\n",
      "weighted avg       1.00      1.00      1.00       205\n",
      "\n"
     ]
    }
   ],
   "source": [
    "print(classification_report(y_pred_rf,y_test))"
   ]
  },
  {
   "cell_type": "code",
   "execution_count": null,
   "id": "dd997e3e",
   "metadata": {},
   "outputs": [],
   "source": [
    "import xgboost as xgb\n",
    "\n",
    "xgb_model = xgb.XGBClassifier(objective=\"binary:logistic\", random_state=42)\n",
    "xgb_model.fit(X_train, y_train)\n",
    "\n",
    "y_pred_xgb = xgb_model.predict(X_test)"
   ]
  },
  {
   "cell_type": "code",
   "execution_count": null,
   "id": "cc6a2565",
   "metadata": {},
   "outputs": [
    {
     "data": {
      "text/plain": [
       "(205,)"
      ]
     },
     "execution_count": 95,
     "metadata": {},
     "output_type": "execute_result"
    }
   ],
   "source": [
    "y_pred_xgb.shape"
   ]
  },
  {
   "cell_type": "code",
   "execution_count": null,
   "id": "28fa5a6d",
   "metadata": {},
   "outputs": [
    {
     "name": "stdout",
     "output_type": "stream",
     "text": [
      "The accuracy score achieved using XGBoost is: 100.0 %\n"
     ]
    }
   ],
   "source": [
    "score_xgb = round(accuracy_score(y_pred_xgb,y_test)*100,2)\n",
    "\n",
    "print(\"The accuracy score achieved using XGBoost is: \"+str(score_xgb)+\" %\")"
   ]
  },
  {
   "cell_type": "code",
   "execution_count": null,
   "id": "a242bfb2",
   "metadata": {},
   "outputs": [
    {
     "data": {
      "text/plain": [
       "<AxesSubplot:>"
      ]
     },
     "execution_count": 97,
     "metadata": {},
     "output_type": "execute_result"
    },
    {
     "data": {
      "image/png": "[encoded data removed]",
      "text/plain": [
       "<Figure size 432x288 with 2 Axes>"
      ]
     },
     "metadata": {
      "needs_background": "light"
     },
     "output_type": "display_data"
    }
   ],
   "source": [
    "cm = pd.DataFrame(confusion_matrix(y_pred_xgb,y_test))\n",
    "sns.heatmap(cm, annot=True,cmap=\"mako_r\")"
   ]
  },
  {
   "cell_type": "code",
   "execution_count": null,
   "id": "9783bd59",
   "metadata": {},
   "outputs": [
    {
     "name": "stdout",
     "output_type": "stream",
     "text": [
      "              precision    recall  f1-score   support\n",
      "\n",
      "           0       1.00      1.00      1.00        89\n",
      "           1       1.00      1.00      1.00       116\n",
      "\n",
      "    accuracy                           1.00       205\n",
      "   macro avg       1.00      1.00      1.00       205\n",
      "weighted avg       1.00      1.00      1.00       205\n",
      "\n"
     ]
    }
   ],
   "source": [
    "print(classification_report(y_pred_xgb,y_test))"
   ]
  },
  {
   "cell_type": "code",
   "execution_count": null,
   "id": "3c94d407",
   "metadata": {},
   "outputs": [],
   "source": [
    "from keras.models import Sequential\n",
    "from keras.layers import Dense"
   ]
  },
  {
   "cell_type": "code",
   "execution_count": null,
   "id": "add4fb18",
   "metadata": {},
   "outputs": [],
   "source": [
    "\n",
    "model = Sequential()\n",
    "model.add(Dense(11,activation='relu',input_dim=13))\n",
    "model.add(Dense(1,activation='sigmoid'))\n",
    "\n",
    "model.compile(loss='binary_crossentropy',optimizer='adam',metrics=['accuracy'])"
   ]
  },
  {
   "cell_type": "code",
   "execution_count": null,
   "id": "2bcec18f",
   "metadata": {},
   "outputs": [
    {
     "name": "stdout",
     "output_type": "stream",
     "text": [
      "Epoch 1/300\n",
      "26/26 [==============================] - 1s 2ms/step - loss: 5.2378 - accuracy: 0.3890\n",
      "Epoch 2/300\n",
      "26/26 [==============================] - 0s 2ms/step - loss: 4.4504 - accuracy: 0.3878\n",
      "Epoch 3/300\n",
      "26/26 [==============================] - 0s 2ms/step - loss: 3.7760 - accuracy: 0.4037\n",
      "Epoch 4/300\n",
      "26/26 [==============================] - 0s 2ms/step - loss: 3.0265 - accuracy: 0.4049\n",
      "Epoch 5/300\n",
      "26/26 [==============================] - 0s 3ms/step - loss: 2.3312 - accuracy: 0.4293\n",
      "Epoch 6/300\n",
      "26/26 [==============================] - 0s 2ms/step - loss: 1.7504 - accuracy: 0.4634\n",
      "Epoch 7/300\n",
      "26/26 [==============================] - 0s 2ms/step - loss: 1.2667 - accuracy: 0.5085\n",
      "Epoch 8/300\n",
      "26/26 [==============================] - 0s 2ms/step - loss: 0.9217 - accuracy: 0.5585\n",
      "Epoch 9/300\n",
      "26/26 [==============================] - 0s 2ms/step - loss: 0.7508 - accuracy: 0.6244\n",
      "Epoch 10/300\n",
      "26/26 [==============================] - 0s 2ms/step - loss: 0.6374 - accuracy: 0.6780\n",
      "Epoch 11/300\n",
      "26/26 [==============================] - 0s 2ms/step - loss: 0.6068 - accuracy: 0.7000\n",
      "Epoch 12/300\n",
      "26/26 [==============================] - 0s 3ms/step - loss: 0.5788 - accuracy: 0.7195\n",
      "Epoch 13/300\n",
      "26/26 [==============================] - 0s 3ms/step - loss: 0.5317 - accuracy: 0.7439\n",
      "Epoch 14/300\n",
      "26/26 [==============================] - 0s 3ms/step - loss: 0.5403 - accuracy: 0.7402\n",
      "Epoch 15/300\n",
      "26/26 [==============================] - 0s 3ms/step - loss: 0.5072 - accuracy: 0.7549\n",
      "Epoch 16/300\n",
      "26/26 [==============================] - 0s 3ms/step - loss: 0.4843 - accuracy: 0.7634\n",
      "Epoch 17/300\n",
      "26/26 [==============================] - 0s 2ms/step - loss: 0.4799 - accuracy: 0.7634\n",
      "Epoch 18/300\n",
      "26/26 [==============================] - 0s 2ms/step - loss: 0.4804 - accuracy: 0.7634\n",
      "Epoch 19/300\n",
      "26/26 [==============================] - 0s 2ms/step - loss: 0.4834 - accuracy: 0.7476\n",
      "Epoch 20/300\n",
      "26/26 [==============================] - 0s 2ms/step - loss: 0.4610 - accuracy: 0.7780\n",
      "Epoch 21/300\n",
      "26/26 [==============================] - 0s 3ms/step - loss: 0.4609 - accuracy: 0.7768\n",
      "Epoch 22/300\n",
      "26/26 [==============================] - 0s 3ms/step - loss: 0.4415 - accuracy: 0.7768\n",
      "Epoch 23/300\n",
      "26/26 [==============================] - 0s 2ms/step - loss: 0.4328 - accuracy: 0.7890\n",
      "Epoch 24/300\n",
      "26/26 [==============================] - 0s 3ms/step - loss: 0.4225 - accuracy: 0.8085\n",
      "Epoch 25/300\n",
      "26/26 [==============================] - 0s 3ms/step - loss: 0.4307 - accuracy: 0.7976\n",
      "Epoch 26/300\n",
      "26/26 [==============================] - 0s 3ms/step - loss: 0.4109 - accuracy: 0.8122\n",
      "Epoch 27/300\n",
      "26/26 [==============================] - 0s 3ms/step - loss: 0.4232 - accuracy: 0.7890\n",
      "Epoch 28/300\n",
      "26/26 [==============================] - 0s 3ms/step - loss: 0.4140 - accuracy: 0.7902\n",
      "Epoch 29/300\n",
      "26/26 [==============================] - 0s 3ms/step - loss: 0.4092 - accuracy: 0.8146\n",
      "Epoch 30/300\n",
      "26/26 [==============================] - 0s 3ms/step - loss: 0.4429 - accuracy: 0.7890\n",
      "Epoch 31/300\n",
      "26/26 [==============================] - 0s 3ms/step - loss: 0.4133 - accuracy: 0.7951\n",
      "Epoch 32/300\n",
      "26/26 [==============================] - 0s 2ms/step - loss: 0.3929 - accuracy: 0.8268\n",
      "Epoch 33/300\n",
      "26/26 [==============================] - 0s 2ms/step - loss: 0.4059 - accuracy: 0.8220\n",
      "Epoch 34/300\n",
      "26/26 [==============================] - 0s 2ms/step - loss: 0.4111 - accuracy: 0.8122\n",
      "Epoch 35/300\n",
      "26/26 [==============================] - 0s 3ms/step - loss: 0.3892 - accuracy: 0.8280\n",
      "Epoch 36/300\n",
      "26/26 [==============================] - 0s 3ms/step - loss: 0.4168 - accuracy: 0.8061\n",
      "Epoch 37/300\n",
      "26/26 [==============================] - 0s 3ms/step - loss: 0.3912 - accuracy: 0.8390\n",
      "Epoch 38/300\n",
      "26/26 [==============================] - 0s 3ms/step - loss: 0.3840 - accuracy: 0.8329\n",
      "Epoch 39/300\n",
      "26/26 [==============================] - 0s 2ms/step - loss: 0.3808 - accuracy: 0.8366\n",
      "Epoch 40/300\n",
      "26/26 [==============================] - 0s 2ms/step - loss: 0.3876 - accuracy: 0.8280\n",
      "Epoch 41/300\n",
      "26/26 [==============================] - 0s 2ms/step - loss: 0.3784 - accuracy: 0.8476\n",
      "Epoch 42/300\n",
      "26/26 [==============================] - 0s 2ms/step - loss: 0.3860 - accuracy: 0.8390\n",
      "Epoch 43/300\n",
      "26/26 [==============================] - 0s 2ms/step - loss: 0.3796 - accuracy: 0.8439\n",
      "Epoch 44/300\n",
      "26/26 [==============================] - 0s 2ms/step - loss: 0.3897 - accuracy: 0.8280\n",
      "Epoch 45/300\n",
      "26/26 [==============================] - 0s 3ms/step - loss: 0.4416 - accuracy: 0.8159\n",
      "Epoch 46/300\n",
      "26/26 [==============================] - 0s 3ms/step - loss: 0.3902 - accuracy: 0.8280\n",
      "Epoch 47/300\n",
      "26/26 [==============================] - 0s 3ms/step - loss: 0.3915 - accuracy: 0.8207\n",
      "Epoch 48/300\n",
      "26/26 [==============================] - 0s 2ms/step - loss: 0.4258 - accuracy: 0.7988\n",
      "Epoch 49/300\n",
      "26/26 [==============================] - 0s 2ms/step - loss: 0.3941 - accuracy: 0.8232\n",
      "Epoch 50/300\n",
      "26/26 [==============================] - 0s 2ms/step - loss: 0.3819 - accuracy: 0.8232\n",
      "Epoch 51/300\n",
      "26/26 [==============================] - 0s 2ms/step - loss: 0.3990 - accuracy: 0.8171\n",
      "Epoch 52/300\n",
      "26/26 [==============================] - 0s 2ms/step - loss: 0.3870 - accuracy: 0.8341\n",
      "Epoch 53/300\n",
      "26/26 [==============================] - 0s 3ms/step - loss: 0.3758 - accuracy: 0.8329\n",
      "Epoch 54/300\n",
      "26/26 [==============================] - 0s 2ms/step - loss: 0.4572 - accuracy: 0.7805\n",
      "Epoch 55/300\n",
      "26/26 [==============================] - 0s 2ms/step - loss: 0.4105 - accuracy: 0.8146\n",
      "Epoch 56/300\n",
      "26/26 [==============================] - 0s 2ms/step - loss: 0.3908 - accuracy: 0.8098\n",
      "Epoch 57/300\n",
      "26/26 [==============================] - 0s 2ms/step - loss: 0.3894 - accuracy: 0.8256\n",
      "Epoch 58/300\n",
      "26/26 [==============================] - 0s 2ms/step - loss: 0.3776 - accuracy: 0.8366\n",
      "Epoch 59/300\n",
      "26/26 [==============================] - 0s 3ms/step - loss: 0.3716 - accuracy: 0.8366\n",
      "Epoch 60/300\n",
      "26/26 [==============================] - 0s 3ms/step - loss: 0.3707 - accuracy: 0.8402\n",
      "Epoch 61/300\n",
      "26/26 [==============================] - 0s 3ms/step - loss: 0.3734 - accuracy: 0.8390\n",
      "Epoch 62/300\n",
      "26/26 [==============================] - 0s 3ms/step - loss: 0.3605 - accuracy: 0.8622\n",
      "Epoch 63/300\n",
      "26/26 [==============================] - 0s 3ms/step - loss: 0.3721 - accuracy: 0.8366\n",
      "Epoch 64/300\n",
      "26/26 [==============================] - 0s 3ms/step - loss: 0.3643 - accuracy: 0.8488\n",
      "Epoch 65/300\n",
      "26/26 [==============================] - 0s 2ms/step - loss: 0.3787 - accuracy: 0.8280\n",
      "Epoch 66/300\n",
      "26/26 [==============================] - 0s 2ms/step - loss: 0.3987 - accuracy: 0.8159\n",
      "Epoch 67/300\n",
      "26/26 [==============================] - 0s 2ms/step - loss: 0.3635 - accuracy: 0.8451\n",
      "Epoch 68/300\n",
      "26/26 [==============================] - 0s 2ms/step - loss: 0.3656 - accuracy: 0.8390\n",
      "Epoch 69/300\n",
      "26/26 [==============================] - 0s 2ms/step - loss: 0.3916 - accuracy: 0.8207\n",
      "Epoch 70/300\n",
      "26/26 [==============================] - 0s 2ms/step - loss: 0.3560 - accuracy: 0.8463\n",
      "Epoch 71/300\n",
      "26/26 [==============================] - 0s 2ms/step - loss: 0.3730 - accuracy: 0.8293\n",
      "Epoch 72/300\n",
      "26/26 [==============================] - 0s 3ms/step - loss: 0.3904 - accuracy: 0.8305\n",
      "Epoch 73/300\n",
      "26/26 [==============================] - 0s 3ms/step - loss: 0.3858 - accuracy: 0.8146\n",
      "Epoch 74/300\n",
      "26/26 [==============================] - 0s 3ms/step - loss: 0.3879 - accuracy: 0.8171\n",
      "Epoch 75/300\n",
      "26/26 [==============================] - 0s 3ms/step - loss: 0.4099 - accuracy: 0.8110\n",
      "Epoch 76/300\n",
      "26/26 [==============================] - 0s 3ms/step - loss: 0.4813 - accuracy: 0.7707\n",
      "Epoch 77/300\n",
      "26/26 [==============================] - 0s 3ms/step - loss: 0.4025 - accuracy: 0.7976\n",
      "Epoch 78/300\n",
      "26/26 [==============================] - 0s 3ms/step - loss: 0.3758 - accuracy: 0.8402\n",
      "Epoch 79/300\n",
      "26/26 [==============================] - 0s 3ms/step - loss: 0.4382 - accuracy: 0.8000\n",
      "Epoch 80/300\n",
      "26/26 [==============================] - 0s 3ms/step - loss: 0.4000 - accuracy: 0.8159\n",
      "Epoch 81/300\n",
      "26/26 [==============================] - 0s 2ms/step - loss: 0.3648 - accuracy: 0.8354\n",
      "Epoch 82/300\n",
      "26/26 [==============================] - 0s 2ms/step - loss: 0.3675 - accuracy: 0.8463\n",
      "Epoch 83/300\n"
     ]
    },
    {
     "name": "stdout",
     "output_type": "stream",
     "text": [
      "26/26 [==============================] - 0s 2ms/step - loss: 0.3633 - accuracy: 0.8451\n",
      "Epoch 84/300\n",
      "26/26 [==============================] - 0s 3ms/step - loss: 0.3663 - accuracy: 0.8427\n",
      "Epoch 85/300\n",
      "26/26 [==============================] - 0s 3ms/step - loss: 0.3762 - accuracy: 0.8305\n",
      "Epoch 86/300\n",
      "26/26 [==============================] - 0s 3ms/step - loss: 0.3691 - accuracy: 0.8341\n",
      "Epoch 87/300\n",
      "26/26 [==============================] - 0s 3ms/step - loss: 0.3643 - accuracy: 0.8549\n",
      "Epoch 88/300\n",
      "26/26 [==============================] - 0s 3ms/step - loss: 0.3765 - accuracy: 0.8232\n",
      "Epoch 89/300\n",
      "26/26 [==============================] - 0s 2ms/step - loss: 0.3726 - accuracy: 0.8366\n",
      "Epoch 90/300\n",
      "26/26 [==============================] - 0s 3ms/step - loss: 0.3736 - accuracy: 0.8390\n",
      "Epoch 91/300\n",
      "26/26 [==============================] - 0s 3ms/step - loss: 0.3748 - accuracy: 0.8268\n",
      "Epoch 92/300\n",
      "26/26 [==============================] - 0s 3ms/step - loss: 0.3670 - accuracy: 0.8390\n",
      "Epoch 93/300\n",
      "26/26 [==============================] - 0s 3ms/step - loss: 0.3794 - accuracy: 0.8354\n",
      "Epoch 94/300\n",
      "26/26 [==============================] - 0s 2ms/step - loss: 0.4150 - accuracy: 0.7988\n",
      "Epoch 95/300\n",
      "26/26 [==============================] - 0s 2ms/step - loss: 0.4063 - accuracy: 0.8049\n",
      "Epoch 96/300\n",
      "26/26 [==============================] - 0s 2ms/step - loss: 0.3909 - accuracy: 0.8207\n",
      "Epoch 97/300\n",
      "26/26 [==============================] - 0s 3ms/step - loss: 0.3618 - accuracy: 0.8415\n",
      "Epoch 98/300\n",
      "26/26 [==============================] - 0s 3ms/step - loss: 0.3725 - accuracy: 0.8293\n",
      "Epoch 99/300\n",
      "26/26 [==============================] - 0s 3ms/step - loss: 0.3694 - accuracy: 0.8378\n",
      "Epoch 100/300\n",
      "26/26 [==============================] - 0s 3ms/step - loss: 0.3835 - accuracy: 0.8341\n",
      "Epoch 101/300\n",
      "26/26 [==============================] - 0s 3ms/step - loss: 0.3622 - accuracy: 0.8439\n",
      "Epoch 102/300\n",
      "26/26 [==============================] - 0s 3ms/step - loss: 0.3611 - accuracy: 0.8463\n",
      "Epoch 103/300\n",
      "26/26 [==============================] - 0s 3ms/step - loss: 0.3769 - accuracy: 0.8159\n",
      "Epoch 104/300\n",
      "26/26 [==============================] - 0s 3ms/step - loss: 0.3763 - accuracy: 0.8427\n",
      "Epoch 105/300\n",
      "26/26 [==============================] - 0s 3ms/step - loss: 0.3604 - accuracy: 0.8524\n",
      "Epoch 106/300\n",
      "26/26 [==============================] - 0s 3ms/step - loss: 0.4024 - accuracy: 0.8073\n",
      "Epoch 107/300\n",
      "26/26 [==============================] - 0s 3ms/step - loss: 0.3703 - accuracy: 0.8390\n",
      "Epoch 108/300\n",
      "26/26 [==============================] - 0s 3ms/step - loss: 0.3714 - accuracy: 0.8341\n",
      "Epoch 109/300\n",
      "26/26 [==============================] - 0s 3ms/step - loss: 0.3699 - accuracy: 0.8354\n",
      "Epoch 110/300\n",
      "26/26 [==============================] - 0s 3ms/step - loss: 0.3622 - accuracy: 0.8354\n",
      "Epoch 111/300\n",
      "26/26 [==============================] - 0s 3ms/step - loss: 0.3982 - accuracy: 0.8195\n",
      "Epoch 112/300\n",
      "26/26 [==============================] - 0s 3ms/step - loss: 0.3681 - accuracy: 0.8390\n",
      "Epoch 113/300\n",
      "26/26 [==============================] - 0s 3ms/step - loss: 0.3768 - accuracy: 0.8329\n",
      "Epoch 114/300\n",
      "26/26 [==============================] - 0s 3ms/step - loss: 0.3870 - accuracy: 0.8329\n",
      "Epoch 115/300\n",
      "26/26 [==============================] - 0s 3ms/step - loss: 0.3972 - accuracy: 0.8195\n",
      "Epoch 116/300\n",
      "26/26 [==============================] - 0s 3ms/step - loss: 0.3832 - accuracy: 0.8268\n",
      "Epoch 117/300\n",
      "26/26 [==============================] - 0s 3ms/step - loss: 0.3613 - accuracy: 0.8415\n",
      "Epoch 118/300\n",
      "26/26 [==============================] - 0s 3ms/step - loss: 0.3677 - accuracy: 0.8341\n",
      "Epoch 119/300\n",
      "26/26 [==============================] - 0s 2ms/step - loss: 0.4056 - accuracy: 0.8037\n",
      "Epoch 120/300\n",
      "26/26 [==============================] - 0s 3ms/step - loss: 0.3869 - accuracy: 0.8232\n",
      "Epoch 121/300\n",
      "26/26 [==============================] - 0s 3ms/step - loss: 0.3625 - accuracy: 0.8427\n",
      "Epoch 122/300\n",
      "26/26 [==============================] - 0s 3ms/step - loss: 0.3842 - accuracy: 0.8256\n",
      "Epoch 123/300\n",
      "26/26 [==============================] - 0s 3ms/step - loss: 0.3651 - accuracy: 0.8402\n",
      "Epoch 124/300\n",
      "26/26 [==============================] - 0s 3ms/step - loss: 0.3745 - accuracy: 0.8390\n",
      "Epoch 125/300\n",
      "26/26 [==============================] - 0s 3ms/step - loss: 0.3559 - accuracy: 0.8524\n",
      "Epoch 126/300\n",
      "26/26 [==============================] - 0s 3ms/step - loss: 0.3646 - accuracy: 0.8378\n",
      "Epoch 127/300\n",
      "26/26 [==============================] - 0s 3ms/step - loss: 0.3659 - accuracy: 0.8427\n",
      "Epoch 128/300\n",
      "26/26 [==============================] - 0s 3ms/step - loss: 0.3619 - accuracy: 0.8427\n",
      "Epoch 129/300\n",
      "26/26 [==============================] - 0s 3ms/step - loss: 0.3724 - accuracy: 0.8256\n",
      "Epoch 130/300\n",
      "26/26 [==============================] - 0s 3ms/step - loss: 0.3611 - accuracy: 0.8305\n",
      "Epoch 131/300\n",
      "26/26 [==============================] - 0s 2ms/step - loss: 0.3630 - accuracy: 0.8451\n",
      "Epoch 132/300\n",
      "26/26 [==============================] - 0s 2ms/step - loss: 0.3709 - accuracy: 0.8293\n",
      "Epoch 133/300\n",
      "26/26 [==============================] - 0s 3ms/step - loss: 0.3676 - accuracy: 0.8354\n",
      "Epoch 134/300\n",
      "26/26 [==============================] - 0s 2ms/step - loss: 0.3757 - accuracy: 0.8268\n",
      "Epoch 135/300\n",
      "26/26 [==============================] - 0s 2ms/step - loss: 0.3597 - accuracy: 0.8415\n",
      "Epoch 136/300\n",
      "26/26 [==============================] - 0s 2ms/step - loss: 0.3677 - accuracy: 0.8341\n",
      "Epoch 137/300\n",
      "26/26 [==============================] - 0s 3ms/step - loss: 0.3662 - accuracy: 0.8244\n",
      "Epoch 138/300\n",
      "26/26 [==============================] - 0s 3ms/step - loss: 0.4106 - accuracy: 0.8061\n",
      "Epoch 139/300\n",
      "26/26 [==============================] - 0s 3ms/step - loss: 0.3794 - accuracy: 0.8280\n",
      "Epoch 140/300\n",
      "26/26 [==============================] - 0s 3ms/step - loss: 0.3761 - accuracy: 0.8293\n",
      "Epoch 141/300\n",
      "26/26 [==============================] - 0s 3ms/step - loss: 0.3776 - accuracy: 0.8378\n",
      "Epoch 142/300\n",
      "26/26 [==============================] - 0s 3ms/step - loss: 0.3742 - accuracy: 0.8232\n",
      "Epoch 143/300\n",
      "26/26 [==============================] - 0s 3ms/step - loss: 0.3907 - accuracy: 0.8195\n",
      "Epoch 144/300\n",
      "26/26 [==============================] - 0s 3ms/step - loss: 0.3753 - accuracy: 0.8402\n",
      "Epoch 145/300\n",
      "26/26 [==============================] - 0s 3ms/step - loss: 0.3602 - accuracy: 0.8439\n",
      "Epoch 146/300\n",
      "26/26 [==============================] - 0s 3ms/step - loss: 0.3600 - accuracy: 0.8439\n",
      "Epoch 147/300\n",
      "26/26 [==============================] - 0s 3ms/step - loss: 0.3744 - accuracy: 0.8317\n",
      "Epoch 148/300\n",
      "26/26 [==============================] - 0s 3ms/step - loss: 0.3659 - accuracy: 0.8439\n",
      "Epoch 149/300\n",
      "26/26 [==============================] - 0s 3ms/step - loss: 0.3565 - accuracy: 0.8439\n",
      "Epoch 150/300\n",
      "26/26 [==============================] - 0s 3ms/step - loss: 0.3764 - accuracy: 0.8305\n",
      "Epoch 151/300\n",
      "26/26 [==============================] - 0s 2ms/step - loss: 0.3915 - accuracy: 0.8293\n",
      "Epoch 152/300\n",
      "26/26 [==============================] - 0s 2ms/step - loss: 0.3910 - accuracy: 0.8134\n",
      "Epoch 153/300\n",
      "26/26 [==============================] - 0s 2ms/step - loss: 0.3742 - accuracy: 0.8439\n",
      "Epoch 154/300\n",
      "26/26 [==============================] - 0s 3ms/step - loss: 0.3634 - accuracy: 0.8378\n",
      "Epoch 155/300\n",
      "26/26 [==============================] - 0s 3ms/step - loss: 0.3717 - accuracy: 0.8427\n",
      "Epoch 156/300\n",
      "26/26 [==============================] - 0s 3ms/step - loss: 0.3650 - accuracy: 0.8366\n",
      "Epoch 157/300\n",
      "26/26 [==============================] - 0s 2ms/step - loss: 0.3671 - accuracy: 0.8390\n",
      "Epoch 158/300\n",
      "26/26 [==============================] - 0s 2ms/step - loss: 0.3671 - accuracy: 0.8488\n",
      "Epoch 159/300\n",
      "26/26 [==============================] - 0s 2ms/step - loss: 0.3699 - accuracy: 0.8317\n",
      "Epoch 160/300\n",
      "26/26 [==============================] - 0s 2ms/step - loss: 0.3642 - accuracy: 0.8463\n",
      "Epoch 161/300\n",
      "26/26 [==============================] - 0s 2ms/step - loss: 0.3588 - accuracy: 0.8427\n",
      "Epoch 162/300\n",
      "26/26 [==============================] - 0s 2ms/step - loss: 0.3626 - accuracy: 0.8463\n",
      "Epoch 163/300\n",
      "26/26 [==============================] - 0s 2ms/step - loss: 0.3795 - accuracy: 0.8183\n",
      "Epoch 164/300\n"
     ]
    },
    {
     "name": "stdout",
     "output_type": "stream",
     "text": [
      "26/26 [==============================] - 0s 3ms/step - loss: 0.3763 - accuracy: 0.8366\n",
      "Epoch 165/300\n",
      "26/26 [==============================] - 0s 2ms/step - loss: 0.3789 - accuracy: 0.8317\n",
      "Epoch 166/300\n",
      "26/26 [==============================] - 0s 3ms/step - loss: 0.3731 - accuracy: 0.8293\n",
      "Epoch 167/300\n",
      "26/26 [==============================] - 0s 3ms/step - loss: 0.3914 - accuracy: 0.8098\n",
      "Epoch 168/300\n",
      "26/26 [==============================] - 0s 3ms/step - loss: 0.3725 - accuracy: 0.8280\n",
      "Epoch 169/300\n",
      "26/26 [==============================] - 0s 3ms/step - loss: 0.4107 - accuracy: 0.8000\n",
      "Epoch 170/300\n",
      "26/26 [==============================] - 0s 3ms/step - loss: 0.3658 - accuracy: 0.8463\n",
      "Epoch 171/300\n",
      "26/26 [==============================] - 0s 3ms/step - loss: 0.3578 - accuracy: 0.8451\n",
      "Epoch 172/300\n",
      "26/26 [==============================] - 0s 3ms/step - loss: 0.3688 - accuracy: 0.8415\n",
      "Epoch 173/300\n",
      "26/26 [==============================] - 0s 2ms/step - loss: 0.3572 - accuracy: 0.8439\n",
      "Epoch 174/300\n",
      "26/26 [==============================] - 0s 3ms/step - loss: 0.3688 - accuracy: 0.8390\n",
      "Epoch 175/300\n",
      "26/26 [==============================] - 0s 3ms/step - loss: 0.3813 - accuracy: 0.8293\n",
      "Epoch 176/300\n",
      "26/26 [==============================] - 0s 3ms/step - loss: 0.3804 - accuracy: 0.8293\n",
      "Epoch 177/300\n",
      "26/26 [==============================] - 0s 3ms/step - loss: 0.3683 - accuracy: 0.8378\n",
      "Epoch 178/300\n",
      "26/26 [==============================] - 0s 2ms/step - loss: 0.3796 - accuracy: 0.8232\n",
      "Epoch 179/300\n",
      "26/26 [==============================] - 0s 2ms/step - loss: 0.3815 - accuracy: 0.8402\n",
      "Epoch 180/300\n",
      "26/26 [==============================] - 0s 2ms/step - loss: 0.3571 - accuracy: 0.8402\n",
      "Epoch 181/300\n",
      "26/26 [==============================] - 0s 2ms/step - loss: 0.3766 - accuracy: 0.8195\n",
      "Epoch 182/300\n",
      "26/26 [==============================] - 0s 2ms/step - loss: 0.3605 - accuracy: 0.8451\n",
      "Epoch 183/300\n",
      "26/26 [==============================] - 0s 2ms/step - loss: 0.3692 - accuracy: 0.8280\n",
      "Epoch 184/300\n",
      "26/26 [==============================] - 0s 2ms/step - loss: 0.3858 - accuracy: 0.8280\n",
      "Epoch 185/300\n",
      "26/26 [==============================] - 0s 2ms/step - loss: 0.3755 - accuracy: 0.8329\n",
      "Epoch 186/300\n",
      "26/26 [==============================] - 0s 2ms/step - loss: 0.3638 - accuracy: 0.8402\n",
      "Epoch 187/300\n",
      "26/26 [==============================] - 0s 3ms/step - loss: 0.3711 - accuracy: 0.8354\n",
      "Epoch 188/300\n",
      "26/26 [==============================] - 0s 2ms/step - loss: 0.3618 - accuracy: 0.8402\n",
      "Epoch 189/300\n",
      "26/26 [==============================] - 0s 2ms/step - loss: 0.3973 - accuracy: 0.8256\n",
      "Epoch 190/300\n",
      "26/26 [==============================] - 0s 2ms/step - loss: 0.3726 - accuracy: 0.8195\n",
      "Epoch 191/300\n",
      "26/26 [==============================] - 0s 2ms/step - loss: 0.3576 - accuracy: 0.8500\n",
      "Epoch 192/300\n",
      "26/26 [==============================] - 0s 2ms/step - loss: 0.3599 - accuracy: 0.8427\n",
      "Epoch 193/300\n",
      "26/26 [==============================] - 0s 3ms/step - loss: 0.3726 - accuracy: 0.8439\n",
      "Epoch 194/300\n",
      "26/26 [==============================] - 0s 3ms/step - loss: 0.3753 - accuracy: 0.8415\n",
      "Epoch 195/300\n",
      "26/26 [==============================] - 0s 3ms/step - loss: 0.3753 - accuracy: 0.8268\n",
      "Epoch 196/300\n",
      "26/26 [==============================] - 0s 2ms/step - loss: 0.3696 - accuracy: 0.8317\n",
      "Epoch 197/300\n",
      "26/26 [==============================] - 0s 3ms/step - loss: 0.3655 - accuracy: 0.8366\n",
      "Epoch 198/300\n",
      "26/26 [==============================] - 0s 3ms/step - loss: 0.3646 - accuracy: 0.8402\n",
      "Epoch 199/300\n",
      "26/26 [==============================] - 0s 3ms/step - loss: 0.3834 - accuracy: 0.8341\n",
      "Epoch 200/300\n",
      "26/26 [==============================] - 0s 2ms/step - loss: 0.3774 - accuracy: 0.8341\n",
      "Epoch 201/300\n",
      "26/26 [==============================] - 0s 2ms/step - loss: 0.3601 - accuracy: 0.8427\n",
      "Epoch 202/300\n",
      "26/26 [==============================] - 0s 3ms/step - loss: 0.3572 - accuracy: 0.8390\n",
      "Epoch 203/300\n",
      "26/26 [==============================] - 0s 2ms/step - loss: 0.3614 - accuracy: 0.8378\n",
      "Epoch 204/300\n",
      "26/26 [==============================] - 0s 3ms/step - loss: 0.3611 - accuracy: 0.8232\n",
      "Epoch 205/300\n",
      "26/26 [==============================] - 0s 3ms/step - loss: 0.3675 - accuracy: 0.8378\n",
      "Epoch 206/300\n",
      "26/26 [==============================] - 0s 2ms/step - loss: 0.3610 - accuracy: 0.8341\n",
      "Epoch 207/300\n",
      "26/26 [==============================] - 0s 2ms/step - loss: 0.3688 - accuracy: 0.8415\n",
      "Epoch 208/300\n",
      "26/26 [==============================] - 0s 2ms/step - loss: 0.3641 - accuracy: 0.8329\n",
      "Epoch 209/300\n",
      "26/26 [==============================] - 0s 2ms/step - loss: 0.3533 - accuracy: 0.8378\n",
      "Epoch 210/300\n",
      "26/26 [==============================] - 0s 2ms/step - loss: 0.3744 - accuracy: 0.8244\n",
      "Epoch 211/300\n",
      "26/26 [==============================] - 0s 2ms/step - loss: 0.3724 - accuracy: 0.8317\n",
      "Epoch 212/300\n",
      "26/26 [==============================] - 0s 2ms/step - loss: 0.3643 - accuracy: 0.8439\n",
      "Epoch 213/300\n",
      "26/26 [==============================] - 0s 2ms/step - loss: 0.3746 - accuracy: 0.8293\n",
      "Epoch 214/300\n",
      "26/26 [==============================] - 0s 2ms/step - loss: 0.4060 - accuracy: 0.8159\n",
      "Epoch 215/300\n",
      "26/26 [==============================] - 0s 3ms/step - loss: 0.3740 - accuracy: 0.8366\n",
      "Epoch 216/300\n",
      "26/26 [==============================] - 0s 2ms/step - loss: 0.3700 - accuracy: 0.8256\n",
      "Epoch 217/300\n",
      "26/26 [==============================] - 0s 2ms/step - loss: 0.3624 - accuracy: 0.8402\n",
      "Epoch 218/300\n",
      "26/26 [==============================] - 0s 3ms/step - loss: 0.3584 - accuracy: 0.8415\n",
      "Epoch 219/300\n",
      "26/26 [==============================] - 0s 3ms/step - loss: 0.3673 - accuracy: 0.8402\n",
      "Epoch 220/300\n",
      "26/26 [==============================] - 0s 2ms/step - loss: 0.3576 - accuracy: 0.8439\n",
      "Epoch 221/300\n",
      "26/26 [==============================] - 0s 3ms/step - loss: 0.3597 - accuracy: 0.8476\n",
      "Epoch 222/300\n",
      "26/26 [==============================] - 0s 3ms/step - loss: 0.3623 - accuracy: 0.8293\n",
      "Epoch 223/300\n",
      "26/26 [==============================] - 0s 3ms/step - loss: 0.3688 - accuracy: 0.8256\n",
      "Epoch 224/300\n",
      "26/26 [==============================] - 0s 3ms/step - loss: 0.3696 - accuracy: 0.8317\n",
      "Epoch 225/300\n",
      "26/26 [==============================] - 0s 3ms/step - loss: 0.3657 - accuracy: 0.8341\n",
      "Epoch 226/300\n",
      "26/26 [==============================] - 0s 3ms/step - loss: 0.3597 - accuracy: 0.8402\n",
      "Epoch 227/300\n",
      "26/26 [==============================] - 0s 3ms/step - loss: 0.3728 - accuracy: 0.8354\n",
      "Epoch 228/300\n",
      "26/26 [==============================] - 0s 3ms/step - loss: 0.3674 - accuracy: 0.8317\n",
      "Epoch 229/300\n",
      "26/26 [==============================] - 0s 2ms/step - loss: 0.4173 - accuracy: 0.7976\n",
      "Epoch 230/300\n",
      "26/26 [==============================] - 0s 2ms/step - loss: 0.3941 - accuracy: 0.8098\n",
      "Epoch 231/300\n",
      "26/26 [==============================] - 0s 2ms/step - loss: 0.3634 - accuracy: 0.8402\n",
      "Epoch 232/300\n",
      "26/26 [==============================] - 0s 1ms/step - loss: 0.3515 - accuracy: 0.8402\n",
      "Epoch 233/300\n",
      "26/26 [==============================] - 0s 2ms/step - loss: 0.3759 - accuracy: 0.8390\n",
      "Epoch 234/300\n",
      "26/26 [==============================] - 0s 2ms/step - loss: 0.3605 - accuracy: 0.8451\n",
      "Epoch 235/300\n",
      "26/26 [==============================] - 0s 2ms/step - loss: 0.3594 - accuracy: 0.8512\n",
      "Epoch 236/300\n",
      "26/26 [==============================] - 0s 3ms/step - loss: 0.3559 - accuracy: 0.8451\n",
      "Epoch 237/300\n",
      "26/26 [==============================] - 0s 3ms/step - loss: 0.3594 - accuracy: 0.8378\n",
      "Epoch 238/300\n",
      "26/26 [==============================] - 0s 3ms/step - loss: 0.3710 - accuracy: 0.8341\n",
      "Epoch 239/300\n",
      "26/26 [==============================] - 0s 3ms/step - loss: 0.3552 - accuracy: 0.8476\n",
      "Epoch 240/300\n",
      "26/26 [==============================] - 0s 3ms/step - loss: 0.3825 - accuracy: 0.8341\n",
      "Epoch 241/300\n",
      "26/26 [==============================] - 0s 2ms/step - loss: 0.3668 - accuracy: 0.8341\n",
      "Epoch 242/300\n",
      "26/26 [==============================] - 0s 2ms/step - loss: 0.4134 - accuracy: 0.8000\n",
      "Epoch 243/300\n",
      "26/26 [==============================] - 0s 2ms/step - loss: 0.3738 - accuracy: 0.8341\n",
      "Epoch 244/300\n",
      "26/26 [==============================] - 0s 2ms/step - loss: 0.3960 - accuracy: 0.8207\n",
      "Epoch 245/300\n"
     ]
    },
    {
     "name": "stdout",
     "output_type": "stream",
     "text": [
      "26/26 [==============================] - 0s 2ms/step - loss: 0.3989 - accuracy: 0.8061\n",
      "Epoch 246/300\n",
      "26/26 [==============================] - 0s 2ms/step - loss: 0.3617 - accuracy: 0.8439\n",
      "Epoch 247/300\n",
      "26/26 [==============================] - 0s 2ms/step - loss: 0.3631 - accuracy: 0.8366\n",
      "Epoch 248/300\n",
      "26/26 [==============================] - 0s 2ms/step - loss: 0.3594 - accuracy: 0.8390\n",
      "Epoch 249/300\n",
      "26/26 [==============================] - 0s 3ms/step - loss: 0.3610 - accuracy: 0.8390\n",
      "Epoch 250/300\n",
      "26/26 [==============================] - 0s 2ms/step - loss: 0.3610 - accuracy: 0.8524\n",
      "Epoch 251/300\n",
      "26/26 [==============================] - 0s 2ms/step - loss: 0.3601 - accuracy: 0.8415\n",
      "Epoch 252/300\n",
      "26/26 [==============================] - 0s 3ms/step - loss: 0.3784 - accuracy: 0.8244\n",
      "Epoch 253/300\n",
      "26/26 [==============================] - 0s 2ms/step - loss: 0.3592 - accuracy: 0.8476\n",
      "Epoch 254/300\n",
      "26/26 [==============================] - 0s 3ms/step - loss: 0.3570 - accuracy: 0.8549\n",
      "Epoch 255/300\n",
      "26/26 [==============================] - 0s 3ms/step - loss: 0.3969 - accuracy: 0.8085\n",
      "Epoch 256/300\n",
      "26/26 [==============================] - 0s 2ms/step - loss: 0.3597 - accuracy: 0.8439\n",
      "Epoch 257/300\n",
      "26/26 [==============================] - 0s 2ms/step - loss: 0.3617 - accuracy: 0.8390\n",
      "Epoch 258/300\n",
      "26/26 [==============================] - 0s 2ms/step - loss: 0.4012 - accuracy: 0.8146\n",
      "Epoch 259/300\n",
      "26/26 [==============================] - 0s 2ms/step - loss: 0.3593 - accuracy: 0.8451\n",
      "Epoch 260/300\n",
      "26/26 [==============================] - 0s 2ms/step - loss: 0.3593 - accuracy: 0.8512\n",
      "Epoch 261/300\n",
      "26/26 [==============================] - 0s 3ms/step - loss: 0.3731 - accuracy: 0.8329\n",
      "Epoch 262/300\n",
      "26/26 [==============================] - 0s 2ms/step - loss: 0.3805 - accuracy: 0.8317\n",
      "Epoch 263/300\n",
      "26/26 [==============================] - 0s 2ms/step - loss: 0.3752 - accuracy: 0.8305\n",
      "Epoch 264/300\n",
      "26/26 [==============================] - 0s 2ms/step - loss: 0.3580 - accuracy: 0.8366\n",
      "Epoch 265/300\n",
      "26/26 [==============================] - 0s 2ms/step - loss: 0.3775 - accuracy: 0.8256\n",
      "Epoch 266/300\n",
      "26/26 [==============================] - 0s 3ms/step - loss: 0.3916 - accuracy: 0.8317\n",
      "Epoch 267/300\n",
      "26/26 [==============================] - 0s 3ms/step - loss: 0.3828 - accuracy: 0.8317\n",
      "Epoch 268/300\n",
      "26/26 [==============================] - 0s 2ms/step - loss: 0.3718 - accuracy: 0.8329\n",
      "Epoch 269/300\n",
      "26/26 [==============================] - 0s 2ms/step - loss: 0.3585 - accuracy: 0.8476\n",
      "Epoch 270/300\n",
      "26/26 [==============================] - 0s 2ms/step - loss: 0.3710 - accuracy: 0.8305\n",
      "Epoch 271/300\n",
      "26/26 [==============================] - 0s 2ms/step - loss: 0.3775 - accuracy: 0.8341\n",
      "Epoch 272/300\n",
      "26/26 [==============================] - 0s 3ms/step - loss: 0.3990 - accuracy: 0.8110\n",
      "Epoch 273/300\n",
      "26/26 [==============================] - 0s 2ms/step - loss: 0.3660 - accuracy: 0.8256\n",
      "Epoch 274/300\n",
      "26/26 [==============================] - 0s 2ms/step - loss: 0.3588 - accuracy: 0.8439\n",
      "Epoch 275/300\n",
      "26/26 [==============================] - 0s 2ms/step - loss: 0.3817 - accuracy: 0.8268\n",
      "Epoch 276/300\n",
      "26/26 [==============================] - 0s 2ms/step - loss: 0.3792 - accuracy: 0.8280\n",
      "Epoch 277/300\n",
      "26/26 [==============================] - 0s 2ms/step - loss: 0.3930 - accuracy: 0.8073\n",
      "Epoch 278/300\n",
      "26/26 [==============================] - 0s 2ms/step - loss: 0.3777 - accuracy: 0.8280\n",
      "Epoch 279/300\n",
      "26/26 [==============================] - 0s 3ms/step - loss: 0.3783 - accuracy: 0.8232\n",
      "Epoch 280/300\n",
      "26/26 [==============================] - 0s 3ms/step - loss: 0.3905 - accuracy: 0.8256\n",
      "Epoch 281/300\n",
      "26/26 [==============================] - 0s 3ms/step - loss: 0.3930 - accuracy: 0.8207\n",
      "Epoch 282/300\n",
      "26/26 [==============================] - 0s 3ms/step - loss: 0.4199 - accuracy: 0.8134\n",
      "Epoch 283/300\n",
      "26/26 [==============================] - 0s 3ms/step - loss: 0.4200 - accuracy: 0.8146\n",
      "Epoch 284/300\n",
      "26/26 [==============================] - 0s 3ms/step - loss: 0.3600 - accuracy: 0.8317\n",
      "Epoch 285/300\n",
      "26/26 [==============================] - 0s 3ms/step - loss: 0.3549 - accuracy: 0.8463\n",
      "Epoch 286/300\n",
      "26/26 [==============================] - 0s 2ms/step - loss: 0.3933 - accuracy: 0.8232\n",
      "Epoch 287/300\n",
      "26/26 [==============================] - 0s 3ms/step - loss: 0.3656 - accuracy: 0.8354\n",
      "Epoch 288/300\n",
      "26/26 [==============================] - 0s 2ms/step - loss: 0.3762 - accuracy: 0.8293\n",
      "Epoch 289/300\n",
      "26/26 [==============================] - 0s 2ms/step - loss: 0.3697 - accuracy: 0.8500\n",
      "Epoch 290/300\n",
      "26/26 [==============================] - 0s 2ms/step - loss: 0.3668 - accuracy: 0.8439\n",
      "Epoch 291/300\n",
      "26/26 [==============================] - 0s 2ms/step - loss: 0.3808 - accuracy: 0.8244\n",
      "Epoch 292/300\n",
      "26/26 [==============================] - 0s 2ms/step - loss: 0.4070 - accuracy: 0.8024\n",
      "Epoch 293/300\n",
      "26/26 [==============================] - 0s 2ms/step - loss: 0.3722 - accuracy: 0.8207\n",
      "Epoch 294/300\n",
      "26/26 [==============================] - 0s 3ms/step - loss: 0.3576 - accuracy: 0.8512\n",
      "Epoch 295/300\n",
      "26/26 [==============================] - 0s 2ms/step - loss: 0.3558 - accuracy: 0.8439\n",
      "Epoch 296/300\n",
      "26/26 [==============================] - 0s 2ms/step - loss: 0.3620 - accuracy: 0.8378\n",
      "Epoch 297/300\n",
      "26/26 [==============================] - 0s 3ms/step - loss: 0.3839 - accuracy: 0.8402\n",
      "Epoch 298/300\n",
      "26/26 [==============================] - 0s 3ms/step - loss: 0.3863 - accuracy: 0.8244\n",
      "Epoch 299/300\n",
      "26/26 [==============================] - 0s 3ms/step - loss: 0.3824 - accuracy: 0.8171\n",
      "Epoch 300/300\n",
      "26/26 [==============================] - 0s 3ms/step - loss: 0.3667 - accuracy: 0.8378\n"
     ]
    },
    {
     "data": {
      "text/plain": [
       "<keras.callbacks.History at 0x17c4a657b50>"
      ]
     },
     "execution_count": 101,
     "metadata": {},
     "output_type": "execute_result"
    }
   ],
   "source": [
    "model.fit(X_train,y_train,epochs=300)"
   ]
  },
  {
   "cell_type": "code",
   "execution_count": null,
   "id": "d5ac68bd",
   "metadata": {},
   "outputs": [
    {
     "name": "stdout",
     "output_type": "stream",
     "text": [
      "7/7 [==============================] - 0s 3ms/step\n"
     ]
    }
   ],
   "source": [
    "y_pred_nn = model.predict(X_test)"
   ]
  },
  {
   "cell_type": "code",
   "execution_count": null,
   "id": "3cb86684",
   "metadata": {},
   "outputs": [
    {
     "data": {
      "text/plain": [
       "(205, 1)"
      ]
     },
     "execution_count": 103,
     "metadata": {},
     "output_type": "execute_result"
    }
   ],
   "source": [
    "y_pred_nn.shape"
   ]
  },
  {
   "cell_type": "code",
   "execution_count": null,
   "id": "321ad83f",
   "metadata": {},
   "outputs": [],
   "source": [
    "rounded = [round(x[0]) for x in y_pred_nn]\n",
    "\n",
    "y_pred_nn = rounded"
   ]
  },
  {
   "cell_type": "code",
   "execution_count": null,
   "id": "ae12b547",
   "metadata": {},
   "outputs": [
    {
     "name": "stdout",
     "output_type": "stream",
     "text": [
      "The accuracy score achieved using Neural Network is: 83.41 %\n"
     ]
    }
   ],
   "source": [
    "score_nn = round(accuracy_score(y_pred_nn,y_test)*100,2)\n",
    "\n",
    "print(\"The accuracy score achieved using Neural Network is: \"+str(score_nn)+\" %\")\n",
    "\n",
    "#Note: Accuracy of 85% can be achieved on the test set, by setting epochs=2000, and number of nodes = 11. "
   ]
  },
  {
   "cell_type": "code",
   "execution_count": null,
   "id": "e01474b2",
   "metadata": {},
   "outputs": [
    {
     "data": {
      "text/plain": [
       "<AxesSubplot:>"
      ]
     },
     "execution_count": 106,
     "metadata": {},
     "output_type": "execute_result"
    },
    {
     "data": {
      "image/png": "[encoded data removed]",
      "text/plain": [
       "<Figure size 432x288 with 2 Axes>"
      ]
     },
     "metadata": {
      "needs_background": "light"
     },
     "output_type": "display_data"
    }
   ],
   "source": [
    "cm = pd.DataFrame(confusion_matrix(y_pred_nn,y_test))\n",
    "sns.heatmap(cm, annot=True,cmap=\"mako_r\")"
   ]
  },
  {
   "cell_type": "code",
   "execution_count": null,
   "id": "527cd62e",
   "metadata": {},
   "outputs": [
    {
     "name": "stdout",
     "output_type": "stream",
     "text": [
      "              precision    recall  f1-score   support\n",
      "\n",
      "           0       0.76      0.84      0.80        81\n",
      "           1       0.89      0.83      0.86       124\n",
      "\n",
      "    accuracy                           0.83       205\n",
      "   macro avg       0.83      0.84      0.83       205\n",
      "weighted avg       0.84      0.83      0.84       205\n",
      "\n"
     ]
    }
   ],
   "source": [
    "print(classification_report(y_pred_nn,y_test))"
   ]
  },
  {
   "cell_type": "code",
   "execution_count": null,
   "id": "4428d736",
   "metadata": {},
   "outputs": [
    {
     "name": "stdout",
     "output_type": "stream",
     "text": [
      "The accuracy score achieved using Logistic Regression is: 87.8 %\n",
      "The accuracy score achieved using Naive Bayes is: 84.88 %\n",
      "The accuracy score achieved using SupportVectorMachine is: 85.85 %\n",
      "The accuracy score achieved using K-Nearest Neighbors is: 73.17 %\n",
      "The accuracy score achieved using Decision Tree is: 100.0 %\n",
      "The accuracy score achieved using Random Forest is: 100.0 %\n",
      "The accuracy score achieved using XGBoost is: 100.0 %\n",
      "The accuracy score achieved using Neural Network is: 83.41 %\n"
     ]
    }
   ],
   "source": [
    "scores = [score_lr,score_nb,score_svm,score_knn,score_dt,score_rf,score_xgb,score_nn]\n",
    "algorithms = [\"Logistic Regression\",\"Naive Bayes\",\"SupportVectorMachine\",\"K-Nearest Neighbors\",\"Decision Tree\",\"Random Forest\",\"XGBoost\",\"Neural Network\"]    \n",
    "\n",
    "for i in range(len(algorithms)):\n",
    "    print(\"The accuracy score achieved using \"+algorithms[i]+\" is: \"+str(scores[i])+\" %\")"
   ]
  },
  {
   "cell_type": "code",
   "execution_count": null,
   "id": "78924e88",
   "metadata": {},
   "outputs": [
    {
     "data": {
      "text/plain": [
       "<AxesSubplot:xlabel='Algorithms', ylabel='Accuracy score'>"
      ]
     },
     "execution_count": 109,
     "metadata": {},
     "output_type": "execute_result"
    },
    {
     "data": {
      "image/png": "[encoded data removed]",
      "text/plain": [
       "<Figure size 1080x576 with 1 Axes>"
      ]
     },
     "metadata": {},
     "output_type": "display_data"
    }
   ],
   "source": [
    "sns.set(rc={'figure.figsize':(15,8)})\n",
    "plt.xlabel(\"Algorithms\")\n",
    "plt.ylabel(\"Accuracy score\")\n",
    "\n",
    "sns.barplot(algorithms,scores)"
   ]
  },
  {
   "cell_type": "code",
   "execution_count": null,
   "id": "bdb2111b",
   "metadata": {},
   "outputs": [],
   "source": [
    "# Put models in a dictionary\n",
    "models = {\"Logistic Regression\": LogisticRegression(),\n",
    "         \"KNN\": KNeighborsClassifier(),\n",
    "         \"Random Forest\": RandomForestClassifier()}\n",
    "\n",
    "# Create a function to fit and score models\n",
    "def fit_and_score(models, X_train, X_test, y_train, y_test):\n",
    "    \"\"\"\n",
    "    Fits and evaluates given machine learning models.\n",
    "    models: a dict of different Scikit-Learn Machine Learning Models\n",
    "    X_train: training data (no labels)\n",
    "    X_test: testing data (no labels)\n",
    "    y_train: training labels\n",
    "    y_test: testing labels\n",
    "    \"\"\"\n",
    "    \n",
    "    # Set random seed\n",
    "    np.random.seed(42)\n",
    "    \n",
    "    # Make a dictionary to keep model scores\n",
    "    model_scores = {}\n",
    "    \n",
    "    # Loop through models\n",
    "    for name, model in models.items():\n",
    "        # Fit the model to the data\n",
    "        model.fit(X_train, y_train)\n",
    "        # Evaluate the model and append its score to the model score\n",
    "        model_scores[name] = model.score(X_test, y_test)\n",
    "        \n",
    "    return model_scores"
   ]
  },
  {
   "cell_type": "code",
   "execution_count": null,
   "id": "5057cddb",
   "metadata": {},
   "outputs": [
    {
     "data": {
      "text/plain": [
       "{'Logistic Regression': 0.8780487804878049,\n",
       " 'KNN': 0.7463414634146341,\n",
       " 'Random Forest': 1.0}"
      ]
     },
     "execution_count": 111,
     "metadata": {},
     "output_type": "execute_result"
    }
   ],
   "source": [
    "model_scores = fit_and_score( models=models,\n",
    "                             X_train=X_train, \n",
    "                             X_test=X_test, \n",
    "                             y_train=y_train, \n",
    "                             y_test=y_test)\n",
    "\n",
    "model_scores"
   ]
  },
  {
   "cell_type": "code",
   "execution_count": null,
   "id": "e9bc5836",
   "metadata": {},
   "outputs": [
    {
     "data": {
      "image/png": "[encoded data removed]",
      "text/plain": [
       "<Figure size 1080x576 with 1 Axes>"
      ]
     },
     "metadata": {},
     "output_type": "display_data"
    }
   ],
   "source": [
    "model_compare = pd.DataFrame(model_scores, index=[\"accuracy\"])\n",
    "model_compare.T.plot.bar();"
   ]
  },
  {
   "cell_type": "code",
   "execution_count": null,
   "id": "2cbf37b1",
   "metadata": {},
   "outputs": [],
   "source": [
    "train_scores = []\n",
    "test_scores = []\n",
    "\n",
    "# Create a list of different values for n_neighbors\n",
    "neighbors = range(1,21)\n",
    "\n",
    "# Setup KNN Instance\n",
    "knn = KNeighborsClassifier()\n",
    "\n",
    "# Loop through different n_neighbors\n",
    "for i in neighbors:\n",
    "    knn.set_params(n_neighbors=i)\n",
    "    \n",
    "    # Fit the algorithm\n",
    "    knn.fit(X_train, y_train)\n",
    "    \n",
    "    # Update the training scores list\n",
    "    train_scores.append(knn.score(X_train, y_train))\n",
    "    \n",
    "    # Update the testing scores list\n",
    "    test_scores.append(knn.score(X_test, y_test))"
   ]
  },
  {
   "cell_type": "code",
   "execution_count": null,
   "id": "2cd29272",
   "metadata": {},
   "outputs": [
    {
     "data": {
      "text/plain": [
       "[1.0,\n",
       " 0.9951219512195122,\n",
       " 0.9902439024390244,\n",
       " 0.9451219512195121,\n",
       " 0.9182926829268293,\n",
       " 0.8219512195121951,\n",
       " 0.7951219512195122,\n",
       " 0.7914634146341464,\n",
       " 0.75,\n",
       " 0.775609756097561,\n",
       " 0.774390243902439,\n",
       " 0.7560975609756098,\n",
       " 0.7536585365853659,\n",
       " 0.7353658536585366,\n",
       " 0.751219512195122,\n",
       " 0.7658536585365854,\n",
       " 0.7621951219512195,\n",
       " 0.7463414634146341,\n",
       " 0.7329268292682927,\n",
       " 0.7329268292682927]"
      ]
     },
     "execution_count": 114,
     "metadata": {},
     "output_type": "execute_result"
    }
   ],
   "source": [
    "train_scores"
   ]
  },
  {
   "cell_type": "code",
   "execution_count": null,
   "id": "41ef34c0",
   "metadata": {},
   "outputs": [
    {
     "data": {
      "text/plain": [
       "[0.9804878048780488,\n",
       " 0.9414634146341463,\n",
       " 0.9024390243902439,\n",
       " 0.8,\n",
       " 0.7463414634146341,\n",
       " 0.7219512195121951,\n",
       " 0.7317073170731707,\n",
       " 0.7268292682926829,\n",
       " 0.7414634146341463,\n",
       " 0.7463414634146341,\n",
       " 0.7121951219512195,\n",
       " 0.7170731707317073,\n",
       " 0.7170731707317073,\n",
       " 0.7121951219512195,\n",
       " 0.7463414634146341,\n",
       " 0.7414634146341463,\n",
       " 0.7317073170731707,\n",
       " 0.7024390243902439,\n",
       " 0.6829268292682927,\n",
       " 0.6780487804878049]"
      ]
     },
     "execution_count": 115,
     "metadata": {},
     "output_type": "execute_result"
    }
   ],
   "source": [
    "test_scores"
   ]
  },
  {
   "cell_type": "code",
   "execution_count": null,
   "id": "7188d1e3",
   "metadata": {},
   "outputs": [
    {
     "name": "stdout",
     "output_type": "stream",
     "text": [
      "Maximum KNN score on the test data: 98.05%\n"
     ]
    },
    {
     "data": {
      "image/png": "[encoded data removed]",
      "text/plain": [
       "<Figure size 1080x576 with 1 Axes>"
      ]
     },
     "metadata": {},
     "output_type": "display_data"
    }
   ],
   "source": [
    "plt.plot(neighbors, train_scores, label=\"Train score\")\n",
    "plt.plot(neighbors, test_scores, label=\"Test score\")\n",
    "plt.xticks(np.arange(1,21,1))\n",
    "plt.xlabel(\"Number of Neighbors\")\n",
    "plt.ylabel(\"Model Score\")\n",
    "plt.legend()\n",
    "\n",
    "print(f\"Maximum KNN score on the test data: {max(test_scores)*100:0.2f}%\");"
   ]
  },
  {
   "cell_type": "code",
   "execution_count": null,
   "id": "b8050de0",
   "metadata": {},
   "outputs": [],
   "source": [
    "# Create a hyperparameter grid for logisticRegression\n",
    "log_reg_grid = {\"C\":np.logspace(-4,4,20),\n",
    "                \"solver\": [\"liblinear\"]}\n",
    "\n",
    "# Create a hyperparameter grid for RandomForestClassifier\n",
    "rf_grid = {\"n_estimators\": np.arange(10,1000,50),\n",
    "           \"max_depth\": [None, 3, 5, 10],\n",
    "           \"min_samples_split\": np.arange(2,20,2),\n",
    "           \"min_samples_leaf\": np.arange(1,20,2)}"
   ]
  },
  {
   "cell_type": "code",
   "execution_count": null,
   "id": "52f6a755",
   "metadata": {},
   "outputs": [
    {
     "name": "stdout",
     "output_type": "stream",
     "text": [
      "Fitting 5 folds for each of 20 candidates, totalling 100 fits\n"
     ]
    },
    {
     "data": {
      "text/plain": [
       "RandomizedSearchCV(cv=5, estimator=LogisticRegression(), n_iter=20,\n",
       "                   param_distributions={'C': array([1.00000000e-04, 2.63665090e-04, 6.95192796e-04, 1.83298071e-03,\n",
       "       4.83293024e-03, 1.27427499e-02, 3.35981829e-02, 8.85866790e-02,\n",
       "       2.33572147e-01, 6.15848211e-01, 1.62377674e+00, 4.28133240e+00,\n",
       "       1.12883789e+01, 2.97635144e+01, 7.84759970e+01, 2.06913808e+02,\n",
       "       5.45559478e+02, 1.43844989e+03, 3.79269019e+03, 1.00000000e+04]),\n",
       "                                        'solver': ['liblinear']},\n",
       "                   verbose=True)"
      ]
     },
     "execution_count": 118,
     "metadata": {},
     "output_type": "execute_result"
    }
   ],
   "source": [
    "# Tune LogisticRegression\n",
    "\n",
    "np.random.seed(42)\n",
    "\n",
    "# Setup random hyperparameter search for LogisticRegression\n",
    "rs_log_reg = RandomizedSearchCV(LogisticRegression(),\n",
    "                               param_distributions=log_reg_grid,\n",
    "                               cv=5,\n",
    "                               n_iter=20,\n",
    "                               verbose=True)\n",
    "\n",
    "# Fit random hyperparameter search model for LogisticRegression\n",
    "rs_log_reg.fit(X_train, y_train)"
   ]
  },
  {
   "cell_type": "code",
   "execution_count": null,
   "id": "4693f003",
   "metadata": {},
   "outputs": [
    {
     "data": {
      "text/plain": [
       "{'solver': 'liblinear', 'C': 0.23357214690901212}"
      ]
     },
     "execution_count": 119,
     "metadata": {},
     "output_type": "execute_result"
    }
   ],
   "source": [
    "rs_log_reg.best_params_"
   ]
  },
  {
   "cell_type": "code",
   "execution_count": null,
   "id": "b057c644",
   "metadata": {},
   "outputs": [
    {
     "data": {
      "text/plain": [
       "0.8682926829268293"
      ]
     },
     "execution_count": 120,
     "metadata": {},
     "output_type": "execute_result"
    }
   ],
   "source": [
    "rs_log_reg.score(X_test, y_test)"
   ]
  },
  {
   "cell_type": "code",
   "execution_count": null,
   "id": "5f557ed9",
   "metadata": {},
   "outputs": [
    {
     "name": "stdout",
     "output_type": "stream",
     "text": [
      "Fitting 5 folds for each of 20 candidates, totalling 100 fits\n"
     ]
    },
    {
     "data": {
      "text/plain": [
       "RandomizedSearchCV(cv=5, estimator=RandomForestClassifier(), n_iter=20,\n",
       "                   param_distributions={'max_depth': [None, 3, 5, 10],\n",
       "                                        'min_samples_leaf': array([ 1,  3,  5,  7,  9, 11, 13, 15, 17, 19]),\n",
       "                                        'min_samples_split': array([ 2,  4,  6,  8, 10, 12, 14, 16, 18]),\n",
       "                                        'n_estimators': array([ 10,  60, 110, 160, 210, 260, 310, 360, 410, 460, 510, 560, 610,\n",
       "       660, 710, 760, 810, 860, 910, 960])},\n",
       "                   verbose=True)"
      ]
     },
     "execution_count": 121,
     "metadata": {},
     "output_type": "execute_result"
    }
   ],
   "source": [
    "# Setup random seed\n",
    "np.random.seed(42)\n",
    "\n",
    "# Setup random hyperparameter search for RandomForestClassifier\n",
    "rs_rf = RandomizedSearchCV(RandomForestClassifier(),\n",
    "                          param_distributions=rf_grid,\n",
    "                          cv=5,\n",
    "                          n_iter=20,\n",
    "                          verbose=True)\n",
    "\n",
    "# Fit random hyperparameter search model for RandomForestClassifier\n",
    "rs_rf.fit(X_train, y_train)"
   ]
  },
  {
   "cell_type": "code",
   "execution_count": null,
   "id": "530cfb12",
   "metadata": {},
   "outputs": [
    {
     "data": {
      "text/plain": [
       "{'n_estimators': 510,\n",
       " 'min_samples_split': 14,\n",
       " 'min_samples_leaf': 1,\n",
       " 'max_depth': None}"
      ]
     },
     "execution_count": 122,
     "metadata": {},
     "output_type": "execute_result"
    }
   ],
   "source": [
    "# Find the best hyperparameters\n",
    "rs_rf.best_params_"
   ]
  },
  {
   "cell_type": "code",
   "execution_count": null,
   "id": "f261c7bd",
   "metadata": {},
   "outputs": [
    {
     "data": {
      "text/plain": [
       "0.9512195121951219"
      ]
     },
     "execution_count": 123,
     "metadata": {},
     "output_type": "execute_result"
    }
   ],
   "source": [
    "# Evaluate the randomized seach RandomForestClassifier\n",
    "rs_rf.score(X_test, y_test)"
   ]
  },
  {
   "cell_type": "code",
   "execution_count": null,
   "id": "8a4c1304",
   "metadata": {},
   "outputs": [
    {
     "name": "stdout",
     "output_type": "stream",
     "text": [
      "Fitting 5 folds for each of 30 candidates, totalling 150 fits\n"
     ]
    },
    {
     "data": {
      "text/plain": [
       "GridSearchCV(cv=5, estimator=LogisticRegression(),\n",
       "             param_grid={'C': array([1.00000000e-04, 1.88739182e-04, 3.56224789e-04, 6.72335754e-04,\n",
       "       1.26896100e-03, 2.39502662e-03, 4.52035366e-03, 8.53167852e-03,\n",
       "       1.61026203e-02, 3.03919538e-02, 5.73615251e-02, 1.08263673e-01,\n",
       "       2.04335972e-01, 3.85662042e-01, 7.27895384e-01, 1.37382380e+00,\n",
       "       2.59294380e+00, 4.89390092e+00, 9.23670857e+00, 1.74332882e+01,\n",
       "       3.29034456e+01, 6.21016942e+01, 1.17210230e+02, 2.21221629e+02,\n",
       "       4.17531894e+02, 7.88046282e+02, 1.48735211e+03, 2.80721620e+03,\n",
       "       5.29831691e+03, 1.00000000e+04]),\n",
       "                         'solver': ['liblinear']},\n",
       "             verbose=True)"
      ]
     },
     "execution_count": 124,
     "metadata": {},
     "output_type": "execute_result"
    }
   ],
   "source": [
    "# Different hyperparameters for our LogisticRegression Model\n",
    "log_reg_grid = {\"C\": np.logspace(-4,4,30),\n",
    "                \"solver\": [\"liblinear\"]}\n",
    "\n",
    "# Setup grid hyperparameter search for LogisticRegression\n",
    "gs_log_reg = GridSearchCV(LogisticRegression(),\n",
    "                         param_grid=log_reg_grid,\n",
    "                         cv = 5,\n",
    "                         verbose=True)\n",
    "\n",
    "# Fit grid hyperparameter search model\n",
    "gs_log_reg.fit(X_train, y_train)"
   ]
  },
  {
   "cell_type": "code",
   "execution_count": null,
   "id": "5fc8b74c",
   "metadata": {},
   "outputs": [
    {
     "data": {
      "text/plain": [
       "{'C': 0.20433597178569418, 'solver': 'liblinear'}"
      ]
     },
     "execution_count": 125,
     "metadata": {},
     "output_type": "execute_result"
    }
   ],
   "source": [
    "# Check the best hyperparameters\n",
    "gs_log_reg.best_params_"
   ]
  },
  {
   "cell_type": "code",
   "execution_count": null,
   "id": "cd4b6f33",
   "metadata": {},
   "outputs": [
    {
     "data": {
      "text/plain": [
       "0.8682926829268293"
      ]
     },
     "execution_count": 126,
     "metadata": {},
     "output_type": "execute_result"
    }
   ],
   "source": [
    "# Evaluate\n",
    "gs_log_reg.score(X_test, y_test)"
   ]
  },
  {
   "cell_type": "code",
   "execution_count": null,
   "id": "c8d1abd8",
   "metadata": {},
   "outputs": [],
   "source": [
    "# Make predictions with tuned model\n",
    "y_preds = gs_log_reg.predict(X_test)"
   ]
  },
  {
   "cell_type": "code",
   "execution_count": null,
   "id": "d5bba954",
   "metadata": {},
   "outputs": [
    {
     "data": {
      "text/plain": [
       "array([0, 1, 0, 0, 0, 1, 0, 1, 0, 0, 1, 1, 1, 0, 0, 0, 1, 1, 0, 1, 1, 1,\n",
       "       0, 0, 0, 1, 0, 0, 1, 0, 1, 0, 0, 0, 1, 1, 0, 0, 0, 1, 1, 1, 0, 0,\n",
       "       0, 0, 1, 1, 0, 0, 0, 1, 1, 1, 1, 1, 0, 0, 0, 1, 1, 1, 0, 1, 0, 0,\n",
       "       1, 1, 1, 0, 1, 0, 1, 0, 0, 0, 0, 1, 0, 1, 0, 0, 0, 1, 0, 1, 1, 0,\n",
       "       0, 1, 0, 0, 0, 1, 1, 1, 1, 0, 0, 1, 1, 0, 0, 1, 1, 0, 1, 1, 0, 0,\n",
       "       1, 0, 1, 1, 1, 1, 1, 1, 1, 1, 1, 0, 0, 1, 1, 0, 1, 1, 0, 1, 1, 1,\n",
       "       1, 0, 1, 0, 0, 0, 0, 1, 1, 1, 1, 1, 1, 0, 0, 1, 1, 1, 1, 1, 1, 1,\n",
       "       1, 0, 0, 0, 1, 1, 1, 1, 0, 1, 0, 0, 1, 1, 1, 1, 1, 1, 1, 1, 1, 1,\n",
       "       0, 1, 1, 1, 1, 0, 0, 1, 1, 0, 1, 1, 1, 0, 1, 0, 0, 1, 1, 1, 1, 1,\n",
       "       0, 0, 1, 1, 0, 0, 1], dtype=int64)"
      ]
     },
     "execution_count": 128,
     "metadata": {},
     "output_type": "execute_result"
    }
   ],
   "source": [
    "y_preds"
   ]
  },
  {
   "cell_type": "code",
   "execution_count": null,
   "id": "40d7e5d1",
   "metadata": {},
   "outputs": [
    {
     "data": {
      "image/png": "[encoded data removed]",
      "text/plain": [
       "<Figure size 1080x576 with 1 Axes>"
      ]
     },
     "metadata": {},
     "output_type": "display_data"
    }
   ],
   "source": [
    "# Plot ROC curve and calculate AUC metric\n",
    "plot_roc_curve(gs_log_reg, X_test, y_test);"
   ]
  },
  {
   "cell_type": "code",
   "execution_count": null,
   "id": "26f346ca",
   "metadata": {},
   "outputs": [
    {
     "name": "stdout",
     "output_type": "stream",
     "text": [
      "[[ 75  14]\n",
      " [ 13 103]]\n"
     ]
    }
   ],
   "source": [
    "# Confusion matrix\n",
    "print(confusion_matrix(y_test, y_preds))"
   ]
  },
  {
   "cell_type": "code",
   "execution_count": null,
   "id": "be8a24bd",
   "metadata": {},
   "outputs": [
    {
     "data": {
      "image/png": "[encoded data removed]",
      "text/plain": [
       "<Figure size 216x216 with 1 Axes>"
      ]
     },
     "metadata": {},
     "output_type": "display_data"
    }
   ],
   "source": [
    "sns.set(font_scale=1.5)\n",
    "\n",
    "def plot_conf_mat(y_test, y_preds):\n",
    "    \"\"\"\n",
    "    Plots a nice looking confusion matrix using Seaborns heatmap\n",
    "    \"\"\"\n",
    "    fig, ax = plt.subplots(figsize=(3,3))\n",
    "    ax = sns.heatmap(confusion_matrix(y_test, y_preds),\n",
    "                    annot=True,\n",
    "                    cbar=False)\n",
    "    plt.xlabel(\"True label\")\n",
    "    plt.ylabel(\"Predicted label\")\n",
    "    \n",
    "plot_conf_mat(y_test, y_preds)"
   ]
  },
  {
   "cell_type": "code",
   "execution_count": null,
   "id": "0e5f39e0",
   "metadata": {},
   "outputs": [
    {
     "name": "stdout",
     "output_type": "stream",
     "text": [
      "              precision    recall  f1-score   support\n",
      "\n",
      "           0       0.85      0.84      0.85        89\n",
      "           1       0.88      0.89      0.88       116\n",
      "\n",
      "    accuracy                           0.87       205\n",
      "   macro avg       0.87      0.87      0.87       205\n",
      "weighted avg       0.87      0.87      0.87       205\n",
      "\n"
     ]
    }
   ],
   "source": [
    "print(classification_report(y_test, y_preds))"
   ]
  },
  {
   "cell_type": "code",
   "execution_count": null,
   "id": "093804b8",
   "metadata": {},
   "outputs": [
    {
     "data": {
      "text/plain": [
       "{'C': 0.20433597178569418, 'solver': 'liblinear'}"
      ]
     },
     "execution_count": 133,
     "metadata": {},
     "output_type": "execute_result"
    }
   ],
   "source": [
    "# Check best hyperparameters\n",
    "gs_log_reg.best_params_"
   ]
  },
  {
   "cell_type": "code",
   "execution_count": null,
   "id": "226dac1c",
   "metadata": {},
   "outputs": [],
   "source": [
    "# Create a new classfier with best parameters\n",
    "clf = LogisticRegression(C=0.20433597178569418,\n",
    "                         solver=\"liblinear\")"
   ]
  },
  {
   "cell_type": "code",
   "execution_count": null,
   "id": "fe44cd4c",
   "metadata": {},
   "outputs": [
    {
     "data": {
      "text/plain": [
       "0.8458536585365855"
      ]
     },
     "execution_count": 135,
     "metadata": {},
     "output_type": "execute_result"
    }
   ],
   "source": [
    "# Cross-validated accuracy\n",
    "cv_acc = cross_val_score(clf, X,y, cv=5,scoring=\"accuracy\")\n",
    "cv_acc = np.mean(cv_acc)\n",
    "cv_acc"
   ]
  },
  {
   "cell_type": "code",
   "execution_count": null,
   "id": "25fc50d1",
   "metadata": {},
   "outputs": [
    {
     "data": {
      "text/plain": [
       "0.8140908250785517"
      ]
     },
     "execution_count": 136,
     "metadata": {},
     "output_type": "execute_result"
    }
   ],
   "source": [
    "# Cross-validated precision\n",
    "cv_precision = cross_val_score(clf, X,y, cv=5,scoring=\"precision\")\n",
    "cv_precision = np.mean(cv_precision)\n",
    "cv_precision"
   ]
  },
  {
   "cell_type": "code",
   "execution_count": null,
   "id": "66c20b2a",
   "metadata": {},
   "outputs": [
    {
     "data": {
      "text/plain": [
       "0.9069362084456424"
      ]
     },
     "execution_count": 137,
     "metadata": {},
     "output_type": "execute_result"
    }
   ],
   "source": [
    "# Cross-validated recall\n",
    "cv_recall = cross_val_score(clf, X,y, cv=5,scoring=\"recall\")\n",
    "cv_recall = np.mean(cv_recall)\n",
    "cv_recall"
   ]
  },
  {
   "cell_type": "code",
   "execution_count": null,
   "id": "26c878ce",
   "metadata": {},
   "outputs": [
    {
     "data": {
      "text/plain": [
       "0.8579960964556059"
      ]
     },
     "execution_count": 138,
     "metadata": {},
     "output_type": "execute_result"
    }
   ],
   "source": [
    "# Cross-validated f1-score\n",
    "cv_f1 = cross_val_score(clf, X,y, cv=5,scoring=\"f1\")\n",
    "cv_f1 = np.mean(cv_f1)\n",
    "cv_f1"
   ]
  },
  {
   "cell_type": "code",
   "execution_count": null,
   "id": "3e2671ce",
   "metadata": {},
   "outputs": [
    {
     "data": {
      "image/png": "[encoded data removed]",
      "text/plain": [
       "<Figure size 1080x576 with 1 Axes>"
      ]
     },
     "metadata": {},
     "output_type": "display_data"
    }
   ],
   "source": [
    "# Visualize cross-validated metrics\n",
    "cv_metrics = pd.DataFrame({\"Accuracy\": cv_acc,\n",
    "                           \"Precision\": cv_precision,\n",
    "                           \"Recall\": cv_recall,\n",
    "                           \"F1 score\": cv_f1},\n",
    "                         index=[0])\n",
    "cv_metrics.T.plot.bar(title=\"Cross-validated Classification Metrics\",\n",
    "                     legend=False);"
   ]
  },
  {
   "cell_type": "code",
   "execution_count": null,
   "id": "b4640166",
   "metadata": {},
   "outputs": [],
   "source": [
    "# Fit an instance of LogisticRegression\n",
    "clf = LogisticRegression(C=0.20433597178569418,\n",
    "                         solver=\"liblinear\")\n",
    "\n",
    "clf.fit(X_train, y_train);"
   ]
  },
  {
   "cell_type": "code",
   "execution_count": null,
   "id": "1d3b6747",
   "metadata": {},
   "outputs": [
    {
     "data": {
      "text/plain": [
       "array([[ 0.00333094, -1.48721166,  0.75885996, -0.01319118, -0.00452721,\n",
       "        -0.24992644,  0.33375457,  0.03141373, -0.80249871, -0.45684595,\n",
       "         0.49298044, -0.6640122 , -0.72072185]])"
      ]
     },
     "execution_count": 141,
     "metadata": {},
     "output_type": "execute_result"
    }
   ],
   "source": [
    "# Check coef_\n",
    "clf.coef_"
   ]
  },
  {
   "cell_type": "code",
   "execution_count": null,
   "id": "ce7d46a5",
   "metadata": {},
   "outputs": [
    {
     "data": {
      "text/plain": [
       "{'age': 0.0033309355229556733,\n",
       " 'sex': -1.4872116638138546,\n",
       " 'cp': 0.7588599603142023,\n",
       " 'trestbps': -0.013191182963774627,\n",
       " 'chol': -0.0045272125087431735,\n",
       " 'fbs': -0.2499264410013345,\n",
       " 'restecg': 0.3337545695464435,\n",
       " 'thalach': 0.03141372643984456,\n",
       " 'exang': -0.8024987084056251,\n",
       " 'oldpeak': -0.4568459497598461,\n",
       " 'slope': 0.4929804410880653,\n",
       " 'ca': -0.6640121976115472,\n",
       " 'thal': -0.7207218534244102}"
      ]
     },
     "execution_count": 142,
     "metadata": {},
     "output_type": "execute_result"
    }
   ],
   "source": [
    "# Match coef's of features to columns\n",
    "feature_dict = dict(zip(df.columns, list(clf.coef_[0])))\n",
    "feature_dict"
   ]
  },
  {
   "cell_type": "code",
   "execution_count": null,
   "id": "a2bbe55d",
   "metadata": {},
   "outputs": [
    {
     "data": {
      "image/png": "[encoded data removed]",
      "text/plain": [
       "<Figure size 1080x576 with 1 Axes>"
      ]
     },
     "metadata": {},
     "output_type": "display_data"
    }
   ],
   "source": [
    "# Visualize feature importance\n",
    "feature_df = pd.DataFrame(feature_dict, index=[0])\n",
    "feature_df.T.plot.bar(title=\"Feature Importance\", legend=False);"
   ]
  },
  {
   "cell_type": "code",
   "execution_count": null,
   "id": "531781fb",
   "metadata": {},
   "outputs": [
    {
     "data": {
      "text/html": [
       "<div>\n",
       "<style scoped>\n",
       "    .dataframe tbody tr th:only-of-type {\n",
       "        vertical-align: middle;\n",
       "    }\n",
       "\n",
       "    .dataframe tbody tr th {\n",
       "        vertical-align: top;\n",
       "    }\n",
       "\n",
       "    .dataframe thead th {\n",
       "        text-align: right;\n",
       "    }\n",
       "</style>\n",
       "<table border=\"1\" class=\"dataframe\">\n",
       "  <thead>\n",
       "    <tr style=\"text-align: right;\">\n",
       "      <th>target</th>\n",
       "      <th>0</th>\n",
       "      <th>1</th>\n",
       "    </tr>\n",
       "    <tr>\n",
       "      <th>sex</th>\n",
       "      <th></th>\n",
       "      <th></th>\n",
       "    </tr>\n",
       "  </thead>\n",
       "  <tbody>\n",
       "    <tr>\n",
       "      <th>0</th>\n",
       "      <td>86</td>\n",
       "      <td>226</td>\n",
       "    </tr>\n",
       "    <tr>\n",
       "      <th>1</th>\n",
       "      <td>413</td>\n",
       "      <td>300</td>\n",
       "    </tr>\n",
       "  </tbody>\n",
       "</table>\n",
       "</div>"
      ],
      "text/plain": [
       "target    0    1\n",
       "sex             \n",
       "0        86  226\n",
       "1       413  300"
      ]
     },
     "execution_count": 144,
     "metadata": {},
     "output_type": "execute_result"
    }
   ],
   "source": [
    "pd.crosstab(df.sex, df.target)"
   ]
  },
  {
   "cell_type": "code",
   "execution_count": null,
   "id": "1763a9c9",
   "metadata": {},
   "outputs": [
    {
     "data": {
      "text/html": [
       "<div>\n",
       "<style scoped>\n",
       "    .dataframe tbody tr th:only-of-type {\n",
       "        vertical-align: middle;\n",
       "    }\n",
       "\n",
       "    .dataframe tbody tr th {\n",
       "        vertical-align: top;\n",
       "    }\n",
       "\n",
       "    .dataframe thead th {\n",
       "        text-align: right;\n",
       "    }\n",
       "</style>\n",
       "<table border=\"1\" class=\"dataframe\">\n",
       "  <thead>\n",
       "    <tr style=\"text-align: right;\">\n",
       "      <th>target</th>\n",
       "      <th>0</th>\n",
       "      <th>1</th>\n",
       "    </tr>\n",
       "    <tr>\n",
       "      <th>slope</th>\n",
       "      <th></th>\n",
       "      <th></th>\n",
       "    </tr>\n",
       "  </thead>\n",
       "  <tbody>\n",
       "    <tr>\n",
       "      <th>0</th>\n",
       "      <td>46</td>\n",
       "      <td>28</td>\n",
       "    </tr>\n",
       "    <tr>\n",
       "      <th>1</th>\n",
       "      <td>324</td>\n",
       "      <td>158</td>\n",
       "    </tr>\n",
       "    <tr>\n",
       "      <th>2</th>\n",
       "      <td>129</td>\n",
       "      <td>340</td>\n",
       "    </tr>\n",
       "  </tbody>\n",
       "</table>\n",
       "</div>"
      ],
      "text/plain": [
       "target    0    1\n",
       "slope           \n",
       "0        46   28\n",
       "1       324  158\n",
       "2       129  340"
      ]
     },
     "execution_count": 145,
     "metadata": {},
     "output_type": "execute_result"
    }
   ],
   "source": [
    "pd.crosstab(df.slope, df.target)"
   ]
  },
  {
   "cell_type": "code",
   "execution_count": null,
   "id": "0cd624d2",
   "metadata": {},
   "outputs": [],
   "source": [
    "import pickle\n",
    "# Creating a pickle file for the classifier\n",
    "pickle.dump(lr, open('lrclfmodel.pkl', 'wb'))"
   ]
  },
  {
   "cell_type": "code",
   "execution_count": null,
   "id": "d738734d",
   "metadata": {},
   "outputs": [],
   "source": [
    "pickle.dump(nb, open('nbclfmodel.pkl', 'wb'))"
   ]
  },
  {
   "cell_type": "code",
   "execution_count": null,
   "id": "c8ec127b",
   "metadata": {},
   "outputs": [],
   "source": [
    "pickle.dump(sv, open('svmclfmodel.pkl', 'wb'))"
   ]
  },
  {
   "cell_type": "code",
   "execution_count": null,
   "id": "f2e63f43",
   "metadata": {},
   "outputs": [],
   "source": [
    "pickle.dump(knn, open('knnclfmodel.pkl', 'wb'))"
   ]
  },
  {
   "cell_type": "code",
   "execution_count": null,
   "id": "3faba2ee",
   "metadata": {},
   "outputs": [],
   "source": [
    "pickle.dump(dt, open('dtclfmodel.pkl', 'wb'))"
   ]
  },
  {
   "cell_type": "code",
   "execution_count": null,
   "id": "9bf999c4",
   "metadata": {},
   "outputs": [],
   "source": [
    "pickle.dump(rf, open('rfclfmodel.pkl', 'wb'))"
   ]
  },
  {
   "cell_type": "code",
   "execution_count": null,
   "id": "6202c7d8",
   "metadata": {},
   "outputs": [],
   "source": [
    "pickle.dump(xgb_model, open('clfxgbmodel.pkl', 'wb'))"
   ]
  },
  {
   "cell_type": "code",
   "execution_count": null,
   "id": "accd4151",
   "metadata": {},
   "outputs": [
    {
     "name": "stdout",
     "output_type": "stream",
     "text": [
      "Keras weights file (<HDF5 file \"variables.h5\" (mode r+)>) saving:\n",
      "...layers\\dense\n",
      "......vars\n",
      ".........0\n",
      ".........1\n",
      "...layers\\dense_1\n",
      "......vars\n",
      ".........0\n",
      ".........1\n",
      "...metrics\\mean\n",
      "......vars\n",
      ".........0\n",
      ".........1\n",
      "...metrics\\mean_metric_wrapper\n",
      "......vars\n",
      ".........0\n",
      ".........1\n",
      "...optimizer\n",
      "......vars\n",
      ".........0\n",
      ".........1\n",
      ".........2\n",
      ".........3\n",
      ".........4\n",
      ".........5\n",
      ".........6\n",
      ".........7\n",
      ".........8\n",
      "...vars\n",
      "Keras model archive saving:\n",
      "File Name                                             Modified             Size\n",
      "config.json                                    2023-04-03 14:53:27         1400\n",
      "metadata.json                                  2023-04-03 14:53:27           64\n",
      "variables.h5                                   2023-04-03 14:53:27        19424\n"
     ]
    }
   ],
   "source": [
    "pickle.dump(model, open('clfnnmodel.pkl', 'wb'))"
   ]
  }
 ],
 "metadata": {
  "kernelspec": {
   "display_name": "Python 3",
   "language": "python",
   "name": "python3"
  },
  "language_info": {
   "codemirror_mode": {
    "name": "ipython",
    "version": 3
   },
   "file_extension": ".py",
   "mimetype": "text/x-python",
   "name": "python",
   "nbconvert_exporter": "python",
   "pygments_lexer": "ipython3",
   "version": "3.7.0"
  }
 },
 "nbformat": 4,
 "nbformat_minor": 5
}
